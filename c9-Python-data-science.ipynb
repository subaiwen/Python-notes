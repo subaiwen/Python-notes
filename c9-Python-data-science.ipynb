{
 "metadata": {
  "language_info": {
   "codemirror_mode": {
    "name": "ipython",
    "version": 3
   },
   "file_extension": ".py",
   "mimetype": "text/x-python",
   "name": "python",
   "nbconvert_exporter": "python",
   "pygments_lexer": "ipython3",
   "version": 3
  },
  "orig_nbformat": 2
 },
 "nbformat": 4,
 "nbformat_minor": 2,
 "cells": [
  {
   "source": [
    "# Python Data Science tools\n",
    "- Author: Christopher Harrison, Susan Ibach  \n",
    "- [Github](https://github.com/microsoft/c9-python-getting-started): sample code and slides  \n",
    "- [Website](https://aka.ms/pythonbeginnerseries): video course  \n",
    "- [Bilibili](https://www.bilibili.com/video/BV1qa4y1Y7CD): video course in Chinese \n",
    "- Learning Website: [https://channel9.msdn.com/](https://channel9.msdn.com/) \n",
    "\n",
    "---"
   ],
   "cell_type": "markdown",
   "metadata": {}
  },
  {
   "source": [
    "## 0. Intro\n",
    "Who are you?\n",
    "- Done a little bit of Python\n",
    "- Looking to explore data science\n",
    "- Trying to understand the code in a data science tutorial or quick start\n",
    "\n",
    "What are we doing here?\n",
    "- Introduce data python libraries and objects\n",
    "- Walk commonly used tools and techniques\n",
    "- Navigate through some common scenarios"
   ],
   "cell_type": "markdown",
   "metadata": {}
  },
  {
   "source": [
    "## 1. Jupyter Notebooks\n",
    "\n",
    "Jupyter Notebooks are an open source web application that allows you to create and share Python code. \n",
    "- Open source\n",
    "- Interactive development environment\n",
    "- Download JupyterLab from [jupyter.org](jupyter.org)\n",
    "\n",
    "### 1.1 Documentation\n",
    "\n",
    "- [Jupyter](https://jupyter.org/) to install Jupyter so you can run Jupyter Notebooks locally on your computer\n",
    "- [Jupyter Notebook viewer](https://nbviewer.jupyter.org/) to view Jupyter Notebooks in this GitHub repository without installing Jupyter\n",
    "- [Azure Notebooks](https://notebooks.azure.com/) to create a free Azure Notebooks account to run Notebooks in the cloud\n",
    "- [Create and run a notebook](https://docs.microsoft.com/azure/notebooks/tutorial-create-run-jupyter-notebook?WT.mc_id=python-c9-niner) is a tutorial that walks you through the process of using Azure Notebooks to create a complete Jupyter Notebook that demonstrates linear regression\n",
    "- [How to create and clone projects](https://docs.microsoft.com/azure/notebooks/create-clone-jupyter-notebooks?WT.mc_id=python-c9-niner) to create a project\n",
    "- [Manage and configure projects in Azure Notebooks](https://docs.microsoft.com/azure/notebooks/configure-manage-azure-notebooks-projects?WT.mc_id=python-c9-niner) to upload Notebooks to your project\n",
    "\n",
    "### 1.2 Microsoft Learn Resources\n",
    "\n",
    "Explore related tutorials on [Microsoft Learn](https://learn.microsoft.com/?WT.mc_id=python-c9-niner).\n",
    "\n",
    "- [Intro to machine learning with Python and Azure Notebooks](https://docs.microsoft.com/learn/paths/intro-to-ml-with-python/?WT.mc_id=python-c9-niner)\n",
    "\n",
    "### 1.3 Usage\n",
    "**Keyboard Shortcut**:\n",
    "- Enter: enter edit mode\n",
    "- Shift-­Enter: run cell, select below\n",
    "- Ctrl-Enter: run cell\n",
    "- Alt-Enter: run cell, insert below\n",
    "- Y: to code\n",
    "- M: to markdown\n",
    "- R: to raw\n",
    "- A/B: insert cell above/­below\n",
    "- X: cut selected cell\n",
    "- C: copy selected cell\n",
    "- Shift-V: paste cell above\n",
    "- V: paste cell below\n",
    "- D,D: delete selected cell\n",
    "- Shift-M: merge cell below\n",
    "\n",
    "If the last line of code in a cell is the name of a variable, Jupyter will display the contents of the variable. You can use this feature to preview an object.\n",
    "\n",
    "`In [ ]`:\n",
    "- Blank: whatever in the cell has not run\n",
    "- `*`: executing\n",
    "- Number: the order in which that cell has executed\n"
   ],
   "cell_type": "markdown",
   "metadata": {}
  },
  {
   "source": [
    "## 2. Anaconda and Conda\n",
    "\n",
    "### 2.1 Anaconda\n",
    "\n",
    "[Anaconda](https://www.anaconda.com/) is an open source distribution of Python and R for data science. It includes:\n",
    "- more than 1500 packages\n",
    "- a graphical interface called Anaconda Navigator\n",
    "- a command line interface called Anaconda prompt \n",
    "- a tool called Conda.\n",
    "\n",
    "### 2.2 Conda\n",
    "\n",
    "Python code often relies on external libraries stored in packages. Conda is an open source package management system and environment management system. Conda helps you manage environments and install packages for Jupyter Notebooks.\n",
    "\n",
    "#### 2.2.1 Create a virtual environment with conda\n",
    "`conda create --name my_notebook_env python=3.7 –y`:\n",
    "\n",
    "- `--name my_notebook_env`: the name of the environment\n",
    "- `python=3.7`: version of python in the environment\n",
    "- `–y`: responds yes automatically to prompts\n",
    "\n",
    "#### 2.2.2 Activate your virtual environment\n",
    "- `conda activate my_notebook_env`: activate a virtual environment: \n",
    "- `conda deactivate`: deactivate the current active environment\n",
    "- `conda remove --name my_notebook_env --all`: permanently delete the virtual environment\n",
    "\n",
    "#### 2.2.3 Install library in the active environment\n",
    "```\n",
    "conda install pandas\n",
    "\n",
    "Install jupyter\n",
    "# conda install jupyter\n",
    "\n",
    "conda list \n",
    "# will return a list of installed libraries\n",
    "```\n",
    "\n",
    "#### 2.2.4\n",
    "`jupyter notebook`: launch Jupyter notebooks\n",
    "\n",
    "### 2.3 Documentation\n",
    "\n",
    "- [Conda home page](https://docs.conda.io/)\n",
    "- [Managing Conda environments](https://docs.conda.io/projects/conda/latest/user-guide/tasks/manage-environments.html) to find links and instructions for creating Conda environments, activating, and de-activating Conda environments \n",
    "- [Managing packages](https://docs.conda.io/projects/conda/latest/user-guide/getting-started.html#managing-packages) to learn how to install packages in a Conda environment\n",
    "- [Conda cheat sheet](https://docs.conda.io/projects/conda/latest/user-guide/cheatsheet.html) is a handy quick reference of common Conda commands"
   ],
   "cell_type": "markdown",
   "metadata": {}
  },
  {
   "source": [
    "## 3. Pandas\n",
    "\n",
    "[pandas](https://pandas/pydata.org​) is an open source/BSD-licensed Python library contains a number of high performance data structures and tools for data analysis.\n",
    "\n",
    "\n",
    "**Documentation**: \n",
    "\n",
    "- [Series](https://pandas.pydata.org/pandas-docs/stable/reference/api/pandas.Series.html) stores one dimensional arrays\n",
    "- [DataFrame](https://pandas.pydata.org/pandas-docs/stable/reference/frame.html) stores two dimensional arrays and can contain different datatypes\n",
    "\n",
    "\n",
    "**Microsoft Learn Resources**:\n",
    "\n",
    "Explore related tutorials on [Microsoft Learn](https://learn.microsoft.com/?WT.mc_id=python-c9-niner).\n",
    "\n",
    "- [Intro to machine learning with Python and Azure Notebooks](https://docs.microsoft.com/learn/paths/intro-to-ml-with-python/?WT.mc_id=python-c9-niner)"
   ],
   "cell_type": "markdown",
   "metadata": {}
  },
  {
   "cell_type": "code",
   "execution_count": null,
   "metadata": {},
   "outputs": [],
   "source": [
    "import pandas as pd"
   ]
  },
  {
   "source": [
    "### 3.1 Series\n",
    "\n",
    "pandas Series is similar to Python list. `pd.Series` converts a list to pandas series.\n",
    "\n",
    "- One dimensional array of objects\n",
    "- Each row as an index\n",
    "- By default index is zero-based"
   ],
   "cell_type": "markdown",
   "metadata": {}
  },
  {
   "cell_type": "code",
   "execution_count": null,
   "metadata": {},
   "outputs": [],
   "source": [
    "# Create a series\n",
    "airports = pd.Series([\n",
    "             'Seattle-Tacoma',\n",
    "             'Dulles',\n",
    "             'London Heathrow',\n",
    "             'Schiphol'\n",
    "           ])\n",
    "\n",
    "# indexing\n",
    "airports[2] # have single quotes here, because j-notebook controls the output\n",
    "\n",
    "# iterate through all the values\n",
    "for value in airports:\n",
    "    print(value) # have no quote, because the console control the output\n"
   ]
  },
  {
   "source": [
    "### 3.2 DataFrame\n",
    "pandas DataFrame is Similar to a table in a database or spreadsheet\n",
    "- Coumns identified by name\n",
    "- Rows of data\n",
    "- Index column"
   ],
   "cell_type": "markdown",
   "metadata": {}
  },
  {
   "cell_type": "code",
   "execution_count": null,
   "metadata": {},
   "outputs": [],
   "source": [
    "# Create a DataFrame\n",
    "airports = pd.DataFrame([\n",
    "    # 0                  1         2\n",
    "   ['Seattle-Tacoma', 'Seattle', 'USA' ],           # row 1\n",
    "   ['Dulles', 'Washington', 'USA'],                 # row 2\n",
    "   ['London Heathrow', 'London', 'United Kingdom'], # row 3\n",
    "   ['Schiphol', 'Amsterdam', 'Netherlands']],       # row 4\n",
    "   columns= ['Name','City','Country'] # By default columns are labelled by numbers\n",
    " ) \n",
    "airports\n",
    "\n",
    "airports = pd.DataFrame([\n",
    "   ['Seattle-Tacoma', 'Seattle', 'USA' ], \n",
    "   ['Dulles', 'Washington', 'USA'],       \n",
    "   ['London Heathrow', 'London', 'United Kingdom'],\n",
    "   ['Schiphol', 'Amsterdam', 'Netherlands']\n",
    "]) \n",
    "airports"
   ]
  },
  {
   "source": [
    "#### 3.2.1 Explore DataFrame\n",
    "\n",
    "**Common functions** to explore contents and structure of a DataFrame:\n",
    "\n",
    "- [head](https://pandas.pydata.org/pandas-docs/stable/reference/api/pandas.DataFrame.head.html) returns the first *n* rows from the DataFrame\n",
    "- [tail](https://pandas.pydata.org/pandas-docs/stable/reference/api/pandas.DataFrame.tail.html) returns the last *n* rows from the DataFrame\n",
    "- [shape](https://pandas.pydata.org/pandas-docs/stable/reference/api/pandas.DataFrame.shape.html) returns the dimensions of the DataFrame (e.g. number of rows and columns)\n",
    "- [info](https://pandas.pydata.org/pandas-docs/stable/reference/api/pandas.DataFrame.info.html) provides a summary of the DataFrame content including column names, their datatypes, and number of rows containing non-null values"
   ],
   "cell_type": "markdown",
   "metadata": {}
  },
  {
   "cell_type": "code",
   "execution_count": null,
   "metadata": {},
   "outputs": [],
   "source": [
    "# Explore contents and structure of a DataFrame\n",
    "airports.head(3)\n",
    "airports.tail(3)\n",
    "airports.shape # 7 rows, 3 columns\n",
    "airports.info() # strings are datatype object"
   ]
  },
  {
   "source": [
    "#### 3.2.2 Query a DataFrame\n",
    "\n",
    "- [loc](https://pandas.pydata.org/pandas-docs/stable/reference/api/pandas.DataFrame.loc.html): `iloc[rows, columns]` returns specific rows and columns by specifying column names\n",
    "- [iloc](https://pandas.pydata.org/pandas-docs/stable/reference/api/pandas.DataFrame.iloc.html) returns specific rows and columns by specifying column positions"
   ],
   "cell_type": "markdown",
   "metadata": {}
  },
  {
   "cell_type": "code",
   "execution_count": null,
   "metadata": {},
   "outputs": [],
   "source": [
    "# Column\n",
    "airports['City'] # Request a single column\n",
    "airports[['Name', 'Country']] # Request a list of columns\n",
    "\n",
    "# Rows and columns (by position)\n",
    "airports.iloc[0,0] # data of row 0 and column 0\n",
    "airports.iloc[:,:] # all rows or columns\n",
    "airports.iloc[0:2,:] # first 2 rows and all columns\n",
    "airports.iloc[:,[0,2]] # all rows and column 0 and column 2 (Name and Country)\n",
    "\n",
    "# Rows and columns (by name)\n",
    "airports.loc[:,['Name', 'Country']] # all rows and the columns Name and Country"
   ]
  },
  {
   "source": [
    "#### 3.3 Read and write CSV file \n",
    "\n",
    "CSV files are comma separated variable file. CSV files are frequently used to store data. In order to access the data in a CSV file from a Jupyter Notebook you must upload the file.\n",
    "\n",
    "- [read_csv](https://pandas.pydata.org/pandas-docs/stable/reference/api/pandas.read_csv.html) reads a comma-separated values file into a DataFrame\n",
    "- [to_csv](https://pandas.pydata.org/pandas-docs/stable/reference/api/pandas.DataFrame.to_csv.html) writes contents of a DataFrame to a comma-separated values file\n",
    "- [NaN](https://pandas.pydata.org/pandas-docs/stable/user_guide/missing_data.html) is the default representation of missing values"
   ],
   "cell_type": "markdown",
   "metadata": {}
  },
  {
   "cell_type": "code",
   "execution_count": null,
   "metadata": {},
   "outputs": [],
   "source": [
    "# read\n",
    "airports_df = pd.read_csv('Data/airports.csv') # loads a DataFrame from a CSV\n",
    "airports_df = pd.read_csv('Data/airportsInvalidRows.csv', \n",
    "                          error_bad_lines=False) # skip rows with errors: eg. extra column\n",
    "airports_df = pd.read_csv('Data/airportsNoHeaderRows.csv',\n",
    "                          header=None) # the first row does not contain column headers\n",
    "airports_df = pd.read_csv('Data/airportsNoHeaderRows.csv',\n",
    "                          header=None,\n",
    "                          names=['Name','City','Country']) # Provide names for the columns\n",
    "airports_df = pd.read_csv('Data/airportsBlankValues.csv') # missing values appear as NaN\n",
    "\n",
    "# write\n",
    "airports_df.to_csv('Data/MyNewCSVFile.csv') # exclude the index column"
   ]
  },
  {
   "source": [
    "### 3.4 Data manipulation\n",
    "#### 3.4.1 Remove a column\n",
    "- [`drop`](https://pandas.pydata.org/pandas-docs/stable/reference/api/pandas.DataFrame.drop.html) deletes specified columns from a DataFrame. Use the **inplace** parameter to specify you want to drop the column from the original DataFrame"
   ],
   "cell_type": "markdown",
   "metadata": {}
  },
  {
   "cell_type": "code",
   "execution_count": null,
   "metadata": {},
   "outputs": [],
   "source": [
    "# remove a column and create a new dataframe\n",
    "new_df = df.drop(columns=['COL_NAME'])\n",
    "# df = df.drop(['COL_NAME'], axis=1) : doesn't work\n",
    "\n",
    "# drop the column from the original DataFrame\n",
    "df.drop(columns=['COL_NAME'], inplace=True)"
   ]
  },
  {
   "source": [
    "#### 3.4.2 Handling duplicates and rows with missing values\n",
    "\n",
    "- [dropna](https://pandas.pydata.org/pandas-docs/stable/reference/api/pandas.DataFrame.duplicated.html) removes rows with missing values\n",
    "- [duplicated](https://pandas.pydata.org/pandas-docs/stable/reference/api/pandas.DataFrame.duplicated.html) returns a True or False to indicate if a row is a duplicate of a previous row\n",
    "- [drop_duplicates](https://pandas.pydata.org/pandas-docs/stable/reference/api/pandas.DataFrame.drop_duplicates.html) returns a DataFrame with duplicate rows removed\n",
    "\n",
    "**Missing values**: `NaN`"
   ],
   "cell_type": "markdown",
   "metadata": {}
  },
  {
   "cell_type": "code",
   "execution_count": null,
   "metadata": {},
   "outputs": [],
   "source": [
    "# check missing values\n",
    "df.info()\n",
    "\n",
    "# create a new dataframe with no missing value\n",
    "no_nulls_df = delays_df.dropna()\n",
    "\n",
    "# Specify inplace=True to update the existing DataFrame\n",
    "df.dropna(inplace=True)\n",
    "\n",
    "# Check the number of rows and number of rows with non-null values to confirm\n",
    "no_nulls_df.info()                 "
   ]
  },
  {
   "source": [
    "**Duplicate rows**"
   ],
   "cell_type": "markdown",
   "metadata": {}
  },
  {
   "cell_type": "code",
   "execution_count": null,
   "metadata": {},
   "outputs": [],
   "source": [
    "# check duplicate rows\n",
    "df.duplicated() # If a row is a duplicate of a previous row, it returns True\n",
    "\n",
    "# drop dulicate rows\n",
    "df.drop_duplicates(inplace=True)"
   ]
  },
  {
   "source": [
    "## 4. Modeling"
   ],
   "cell_type": "markdown",
   "metadata": {}
  }
 ]
}