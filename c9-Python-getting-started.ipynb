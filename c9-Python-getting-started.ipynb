{
 "metadata": {
  "language_info": {
   "codemirror_mode": {
    "name": "ipython",
    "version": 3
   },
   "file_extension": ".py",
   "mimetype": "text/x-python",
   "name": "python",
   "nbconvert_exporter": "python",
   "pygments_lexer": "ipython3",
   "version": 3
  },
  "orig_nbformat": 2
 },
 "nbformat": 4,
 "nbformat_minor": 2,
 "cells": [
  {
   "cell_type": "markdown",
   "metadata": {},
   "source": [
    "# Intro to Python Development\n",
    "- Author: Christopher Harrison, Susan Ibach  \n",
    "- [Github](https://github.com/microsoft/c9-python-getting-started): sample code and slides  \n",
    "- [Website](https://aka.ms/pythonbeginnerseries): video course  \n",
    "- [Bilibili](https://www.bilibili.com/video/BV1nE41127zQ): video course in Chinese \n",
    "- [Microsoft learn](https://docs.microsoft.com/en-us/learn/modules/intro-to-python/): text-based course  \n",
    "- Learning Website: [https://channel9.msdn.com/](https://channel9.msdn.com/) \n",
    "\n",
    "---"
   ]
  },
  {
   "cell_type": "markdown",
   "metadata": {},
   "source": [
    "## 0. Concepts\n",
    "What is Python?\n",
    "- Flexible programming language\n",
    "- Designed to be human readable\n",
    "\n",
    "Why use Python?\n",
    "- Great starter language\n",
    "- Great advanced language\n",
    "- Wonderful community\n",
    "\n",
    "What can i build with Python\n",
    "- Machine Learning\n",
    "- Web development\n",
    "- Automation and scripting\n",
    "- Artificial intelligence projects\n",
    "- Anything"
   ]
  },
  {
   "cell_type": "markdown",
   "metadata": {},
   "source": [
    "## 1. Preparations\n",
    "### 1.1 Install Python (3.7)\n",
    "Interpreter: Somewhere to Python to run\n",
    "Installation: [https://www.python.org/downloads](https://www.python.org/downloads)\n",
    "\n",
    "### 1.2 Install Visual Studio Code\n",
    "- Installation: [code.visualstudio.com](https://code.visualstudio.com)  \n",
    "- Extension: Python\n",
    "\n",
    "\n",
    "\n",
    "\n",
    "---"
   ]
  },
  {
   "cell_type": "markdown",
   "metadata": {},
   "source": [
    "## 2. Print\n",
    "\n",
    "## 2.1 print()\n",
    "\n",
    "The [print](https://docs.python.org/3/library/functions.html#print) function allows you to send output to the terminal\n",
    "\n",
    "#### Strings can be enclosed in single quotes or double quotes, Pick one and stick to it\n",
    "\n",
    "- \"this is a string\"\n",
    "- 'this is also a string'\n",
    "\n",
    "#### If there was a single/double quote inside the string, Use another quote style to enclose the string\n",
    "\n",
    "- \"Why won't this line of code print\"\n",
    "- 'He says: \"Hi!\"\n",
    "\n",
    "#### Printing blank lines can improve readability\n",
    "\n",
    "```\n",
    "print('Hello world')\n",
    "print()\n",
    "print('Did you see that blank line?')\n",
    "print('Blank line \\nin the middle of string')\n",
    "\n",
    "```\n",
    "\n",
    "#### Debugging with print  \n",
    "When we're running code and trying to figure out which chunks of code are executing successfully and where it's failing, add a `print` statement would be really helpful\n",
    "\n",
    "```\n",
    "print('Adding numbers)\n",
    "x = 42 + 206\n",
    "print('Performing division')\n",
    "y = x / 0\n",
    "print('Math complete)\n",
    "```\n",
    "\n",
    "## 2.2 input()\n",
    "\n",
    "The [input]((https://docs.python.org/3/library/functions.html#input)) function allows you to prompt a user for a value\n",
    "  \n",
    "Parameters:\n",
    "\n",
    "- `prompt`: Message to display to the user  \n",
    "\n",
    "return value:\n",
    "\n",
    "- string value containing value entered by user\n"
   ]
  }
 ]
}