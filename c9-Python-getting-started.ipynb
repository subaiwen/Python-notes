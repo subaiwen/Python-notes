{
 "metadata": {
  "language_info": {
   "codemirror_mode": {
    "name": "ipython",
    "version": 3
   },
   "file_extension": ".py",
   "mimetype": "text/x-python",
   "name": "python",
   "nbconvert_exporter": "python",
   "pygments_lexer": "ipython3",
   "version": "3.7.4-final"
  },
  "orig_nbformat": 2,
  "kernelspec": {
   "name": "python_defaultSpec_1600105597317",
   "display_name": "Python 3.7.4 64-bit ('base': conda)"
  }
 },
 "nbformat": 4,
 "nbformat_minor": 2,
 "cells": [
  {
   "cell_type": "markdown",
   "metadata": {},
   "source": [
    "# Intro to Python Development\n",
    "- Author: Christopher Harrison, Susan Ibach  \n",
    "- [Github](https://github.com/microsoft/c9-python-getting-started): sample code and slides  \n",
    "- [Website](https://aka.ms/pythonbeginnerseries): video course  \n",
    "- [Bilibili](https://www.bilibili.com/video/BV1nE41127zQ): video course in Chinese \n",
    "- [Microsoft learn](https://docs.microsoft.com/en-us/learn/modules/intro-to-python/): text-based course  \n",
    "- Learning Website: [https://channel9.msdn.com/](https://channel9.msdn.com/) \n",
    "\n",
    "---"
   ]
  },
  {
   "cell_type": "markdown",
   "metadata": {},
   "source": [
    "## 0. Concepts\n",
    "What is Python?\n",
    "- Flexible programming language\n",
    "- Designed to be human readable\n",
    "\n",
    "Why use Python?\n",
    "- Great starter language\n",
    "- Great advanced language\n",
    "- Wonderful community\n",
    "\n",
    "What can i build with Python\n",
    "- Machine Learning\n",
    "- Web development\n",
    "- Automation and scripting\n",
    "- Artificial intelligence projects\n",
    "- Anything\n",
    "\n",
    "### 0.1 Programming components\n",
    "**Objects**:\n",
    "- Nouns\n",
    "- Data constructs\n",
    "\n",
    "**Functions/Methods**:\n",
    "- Verbs\n",
    "- Action\n",
    "\n",
    "**Decorators**:\n",
    "- Adjectives\n",
    "- Add additional functionality to code\n",
    "- Common in frameworks: Django, Flask"
   ]
  },
  {
   "cell_type": "markdown",
   "metadata": {},
   "source": [
    "## 1. Preparations\n",
    "### 1.1 Install Python (3.7)\n",
    "Interpreter: Somewhere to Python to run\n",
    "Installation: [https://www.python.org/downloads](https://www.python.org/downloads)\n",
    "\n",
    "### 1.2 Install Visual Studio Code\n",
    "- Installation: [code.visualstudio.com](https://code.visualstudio.com)  \n",
    "- Extension: Python\n",
    "\n",
    "\n",
    "\n",
    "\n",
    "---"
   ]
  },
  {
   "cell_type": "markdown",
   "metadata": {},
   "source": [
    "## 2. Print\n",
    "\n",
    "## 2.1 print()\n",
    "\n",
    "The [print](https://docs.python.org/3/library/functions.html#print) function allows you to send output to the terminal\n",
    "\n",
    "#### Strings can be enclosed in single quotes or double quotes, Pick one and stick to it\n",
    "\n",
    "- \"this is a string\"\n",
    "- 'this is also a string'\n",
    "\n",
    "#### Printing blank lines can improve readability\n",
    "\n",
    "```\n",
    "print('Hello world')\n",
    "print()\n",
    "print('Did you see that blank line?')\n",
    "print('Blank line \\nin the middle of string')\n",
    "\n",
    "```\n",
    "\n",
    "#### Debugging with print  \n",
    "When we're running code and trying to figure out which chunks of code are executing successfully and where it's failing, add a `print` statement would be really helpful\n",
    "\n",
    "```\n",
    "print('Adding numbers)\n",
    "x = 42 + 206\n",
    "print('Performing division')\n",
    "y = x / 0\n",
    "print('Math complete)\n",
    "```\n",
    "\n",
    "## 2.2 input()\n",
    "\n",
    "The [input]((https://docs.python.org/3/library/functions.html#input)) function allows you to prompt a user for a value\n",
    "  \n",
    "Parameters:\n",
    "\n",
    "- `prompt`: Message to display to the user  \n",
    "\n",
    "return value:\n",
    "\n",
    "- string value containing value entered by user\n"
   ]
  },
  {
   "cell_type": "markdown",
   "metadata": {},
   "source": [
    "## 3. String\n",
    "\n",
    "Python can store and manipulate strings. Strings can be enclosed in single or double quotes. There are a number of string methods you can use to manipulate and work with strings\n",
    "\n",
    "- [strings](https://docs.python.org/3/tutorial/introduction.html#strings)\n",
    "- [string methods](https://docs.python.org/3/library/stdtypes.html#string-methods)\n",
    "\n",
    "Converting to string values\n",
    "\n",
    "- [str](https://docs.python.org/3/library/functions.html#func-str)\n",
    "\n",
    "When naming variables follow the [PEP-8 Style Guide](https://www.python.org/dev/peps/pep-0008/#naming-conventions) for Python Code\n",
    "\n",
    "### 3.1 String styles\n",
    "\n",
    "If there was a single/double quote inside the string:"
   ]
  },
  {
   "cell_type": "code",
   "execution_count": null,
   "metadata": {},
   "outputs": [],
   "source": [
    "\n",
    "print(\"Why won't this line of code print\")  # Use double quote to enclose the string\n",
    "print('He says: \"Hi!\"')  # Use single quote to enclose the string\n",
    "print('don\\'t')  # use \\' to escape the quote\n",
    "print(r'this is raw string') # use raw string"
   ]
  },
  {
   "cell_type": "markdown",
   "metadata": {},
   "source": [
    "String literals can span multiple lines. One way is using triple-quotes: `\"\"\"...\"\"\"` or `'''...'''`. `\\` can prevent including new line."
   ]
  },
  {
   "cell_type": "code",
   "execution_count": 1,
   "metadata": {
    "tags": []
   },
   "outputs": [
    {
     "output_type": "stream",
     "name": "stdout",
     "text": "First line\nSecond line following by a new line\n\n"
    }
   ],
   "source": [
    "print('''\\\n",
    "First line\n",
    "Second line following by a new line\n",
    "''')"
   ]
  },
  {
   "cell_type": "markdown",
   "metadata": {},
   "source": [
    "### 3.2 Concantenating strings\n",
    "Two or more string literals (i.e. the ones enclosed between quotes) next to each other are automatically concatenated. This method does not work with variables or expressions."
   ]
  },
  {
   "cell_type": "code",
   "execution_count": 4,
   "metadata": {},
   "outputs": [
    {
     "output_type": "execute_result",
     "data": {
      "text/plain": "'Line 1 and line 1 still'"
     },
     "metadata": {},
     "execution_count": 4
    }
   ],
   "source": [
    "text = ('Line 1 '\n",
    "        'and line 1 still')\n",
    "text"
   ]
  },
  {
   "cell_type": "markdown",
   "metadata": {},
   "source": [
    "If you want to concatenate variables or a variable and a literal, use `+`:"
   ]
  },
  {
   "cell_type": "code",
   "execution_count": 6,
   "metadata": {
    "tags": []
   },
   "outputs": [
    {
     "output_type": "stream",
     "name": "stdout",
     "text": "Line 1 and line 1 still, so this is end of the online\n"
    }
   ],
   "source": [
    "print(text + ', ' + 'so this is end of the online')"
   ]
  },
  {
   "cell_type": "markdown",
   "metadata": {},
   "source": [
    "### 3.3 String functions"
   ]
  },
  {
   "cell_type": "code",
   "execution_count": 7,
   "metadata": {
    "tags": []
   },
   "outputs": [
    {
     "output_type": "stream",
     "name": "stdout",
     "text": "THE DOG IS NAMED SAMMY\nthe dog is named sammy\nThe dog is named sammy\n2\n"
    }
   ],
   "source": [
    "sentence = 'The dog is named Sammy'\n",
    "\n",
    "# upper() will return the string in uppercase letters\n",
    "print(sentence.upper())\n",
    "\n",
    "# lower() will return the string in lowercase letters\n",
    "print(sentence.lower())\n",
    "\n",
    "# capitalize() will return the string with the first letter uppercase\n",
    "# and the rest of the string in lowercase\n",
    "print(sentence.capitalize())\n",
    "\n",
    "# count() will count the number of occurrences of the value specified\n",
    "# in the string, in this case how many times the letter 'a' appears\n",
    "print(sentence.count('a'))"
   ]
  },
  {
   "cell_type": "markdown",
   "metadata": {},
   "source": [
    "### 3.4 Strings Format"
   ]
  },
  {
   "cell_type": "code",
   "execution_count": 8,
   "metadata": {
    "tags": []
   },
   "outputs": [
    {
     "output_type": "stream",
     "name": "stdout",
     "text": "Hello, Kobe Bryant\nHello, Kobe Bryant\nHello, Kobe Bryant\nHello, Kobe Bryant\nHello, Kobe Bryant\n"
    }
   ],
   "source": [
    "first_name = 'Kobe'\n",
    "last_name = 'Bryant'\n",
    "\n",
    "print('Hello, ' + first_name + ' ' + last_name)\n",
    "print('Hello, {} {}'.format(first_name, last_name))\n",
    "print('Hello, {0} {1}'.format(first_name, last_name))\n",
    "print('Hello, {first_name} {last_name}'.format(first_name = first_name, last_name = last_name))\n",
    "print(f'Hello, {first_name} {last_name}') # Only available in Python3"
   ]
  },
  {
   "cell_type": "markdown",
   "metadata": {},
   "source": [
    "## 4. Numbers"
   ]
  },
  {
   "cell_type": "markdown",
   "metadata": {},
   "source": [
    "Python can store and manipulate numbers. Python has two types of numeric values: integers (whole numbers) or float (numbers with decimal places)\n",
    "\n",
    "- [numeric types](https://docs.python.org/3/library/stdtypes.html#numeric-types-int-float-complex)\n",
    "\n",
    "Converting to numeric values\n",
    "\n",
    "- [int](https://docs.python.org/3/library/functions.html#int)\n",
    "- [float](https://docs.python.org/3/library/functions.html#float)"
   ]
  },
  {
   "cell_type": "markdown",
   "metadata": {},
   "source": [
    "### 4.1 Number Operation\n",
    "```\n",
    "print(first_num + second_num) # addition\n",
    "print(first_num - second_num) # subtraction\n",
    "print(first_num * second_num) # multiplication\n",
    "print(first_num / second_num) # division\n",
    "print(first_num ** second_num) # exponent\n",
    "```"
   ]
  },
  {
   "cell_type": "markdown",
   "metadata": {},
   "source": [
    "### 4.2 Combining string and number\n",
    "The `print` function can accept numbers or strings. The `+` operator can either add two numbers or it can concatenate two strings it does not know what to do when you pass it one number and one string."
   ]
  },
  {
   "cell_type": "code",
   "execution_count": 2,
   "metadata": {
    "tags": []
   },
   "outputs": [
    {
     "output_type": "stream",
     "name": "stdout",
     "text": "28\n"
    },
    {
     "output_type": "error",
     "ename": "TypeError",
     "evalue": "unsupported operand type(s) for +: 'int' and 'str'",
     "traceback": [
      "\u001b[0;31m---------------------------------------------------------------------------\u001b[0m",
      "\u001b[0;31mTypeError\u001b[0m                                 Traceback (most recent call last)",
      "\u001b[0;32m<ipython-input-2-e23025d68c04>\u001b[0m in \u001b[0;36m<module>\u001b[0;34m\u001b[0m\n\u001b[1;32m      1\u001b[0m \u001b[0mdays_in_feb\u001b[0m \u001b[0;34m=\u001b[0m \u001b[0;36m28\u001b[0m\u001b[0;34m\u001b[0m\u001b[0;34m\u001b[0m\u001b[0m\n\u001b[1;32m      2\u001b[0m \u001b[0mprint\u001b[0m\u001b[0;34m(\u001b[0m\u001b[0mdays_in_feb\u001b[0m\u001b[0;34m)\u001b[0m\u001b[0;34m\u001b[0m\u001b[0;34m\u001b[0m\u001b[0m\n\u001b[0;32m----> 3\u001b[0;31m \u001b[0mprint\u001b[0m\u001b[0;34m(\u001b[0m\u001b[0mdays_in_feb\u001b[0m \u001b[0;34m+\u001b[0m \u001b[0;34m' days in February'\u001b[0m\u001b[0;34m)\u001b[0m \u001b[0;31m# will cause an error\u001b[0m\u001b[0;34m\u001b[0m\u001b[0;34m\u001b[0m\u001b[0m\n\u001b[0m",
      "\u001b[0;31mTypeError\u001b[0m: unsupported operand type(s) for +: 'int' and 'str'"
     ]
    }
   ],
   "source": [
    "days_in_feb = 28\n",
    "print(days_in_feb)\n",
    "print(days_in_feb + ' days in February') # will cause an error"
   ]
  },
  {
   "cell_type": "markdown",
   "metadata": {},
   "source": [
    "- Convert the number to a string"
   ]
  },
  {
   "cell_type": "code",
   "execution_count": null,
   "metadata": {},
   "outputs": [],
   "source": [
    "print(str(days_in_feb) + ' days in February')"
   ]
  },
  {
   "cell_type": "markdown",
   "metadata": {},
   "source": [
    "- Convert strings to numbers for math or indexing"
   ]
  },
  {
   "cell_type": "code",
   "execution_count": 13,
   "metadata": {
    "tags": []
   },
   "outputs": [
    {
     "output_type": "stream",
     "name": "stdout",
     "text": "25\n25.0\n"
    }
   ],
   "source": [
    "first_num = input('Enter first number ')\n",
    "second_num = input('Enter second number ')\n",
    "# int() converts a string to an integer e.g. 5, 8, 416, 506\n",
    "print(int(first_num) + int(second_num))\n",
    "\n",
    "# float() converts a string to a decimal or float number e.g. 3.14159, 89.5, 1.0\n",
    "print(float(first_num) + float(second_num))"
   ]
  },
  {
   "cell_type": "markdown",
   "metadata": {},
   "source": [
    "## 5. Dates\n",
    "\n",
    "The [datetime module](https://docs.python.org/3/library/datetime.html) contains a number of classes for manipulating dates and times.\n",
    "\n",
    "Date and time types:\n",
    "\n",
    "- `date` stores year, month, and day\n",
    "- `time` stores hour, minute, and second\n",
    "- `datetime` stores year, month, day, hour, minute, and second\n",
    "- `timedelta` a duration of time between two dates, times, or datetimes\n",
    "\n",
    "Converting from string to datetime\n",
    "\n",
    "- [strptime](https://docs.python.org/2/library/datetime.html#strftime-and-strptime-behavior)\n"
   ]
  },
  {
   "source": [
    "### 5.1 Date functions\n",
    "\n",
    "- `datetime.now()`: returns current date and time\n",
    "- `datetime.timedelta()`: return duration of time as datatime object\n",
    "- `datetime.strptime()`: convert from string to datetime"
   ],
   "cell_type": "markdown",
   "metadata": {}
  },
  {
   "cell_type": "code",
   "execution_count": 1,
   "metadata": {
    "tags": []
   },
   "outputs": [
    {
     "output_type": "stream",
     "name": "stdout",
     "text": "Today is: 2020-09-12 17:46:07.124739\nYesterday was: 2020-09-11 17:46:07.124739\nLast week was: 2020-09-05 17:46:07.124739\n"
    }
   ],
   "source": [
    "#To get current date and time we need to use the datetime library\n",
    "from datetime import datetime, timedelta\n",
    "\n",
    "# The now function returns current date and time\n",
    "today = datetime.now()\n",
    "print('Today is: ' + str(today))\n",
    "\n",
    "#You can use timedelta to add or remove days, or weeks to a date\n",
    "one_day = timedelta(days=1)\n",
    "yesterday = today - one_day\n",
    "print('Yesterday was: ' + str(yesterday))\n",
    "\n",
    "one_week = timedelta(weeks=1)\n",
    "last_week = today - one_week\n",
    "print('Last week was: ' + str(last_week))"
   ]
  },
  {
   "source": [
    "### 5.2 Date format\n",
    "\n",
    "- `.day`: day part of the datetime object\n",
    "- `.month`\n",
    "- `.year`\n",
    "- `.hour`\n",
    "- `.minute`\n",
    "- `.second`"
   ],
   "cell_type": "markdown",
   "metadata": {}
  },
  {
   "cell_type": "code",
   "execution_count": 2,
   "metadata": {
    "tags": []
   },
   "outputs": [
    {
     "output_type": "stream",
     "name": "stdout",
     "text": "Day: 12\nMonth: 9\nYear: 2020\nHour: 17\nMinute: 46\nSecond: 7\n"
    }
   ],
   "source": [
    "# use day, month, year, hour, minute, second functions\n",
    "# to display only part of the date\n",
    "# All these functions return integers\n",
    "# Convert them to strings before concatenating them to another string\n",
    "print('Day: ' + str(today.day))\n",
    "print('Month: ' + str(today.month))\n",
    "print('Year: ' + str(today.year))\n",
    "\n",
    "print('Hour: ' + str(today.hour))\n",
    "print('Minute: ' + str(today.minute))\n",
    "print('Second: ' + str(today.second))"
   ]
  },
  {
   "source": [
    "### 5.3 Convert String to Date \n",
    "\n",
    "When you convert the string containing the date into a date object you must specify the expected date format if the date is not in the expected format Python will raise an exception"
   ],
   "cell_type": "markdown",
   "metadata": {}
  },
  {
   "cell_type": "code",
   "execution_count": null,
   "metadata": {},
   "outputs": [],
   "source": [
    "# When you ask a user for a date tell them the desired date format\n",
    "birthday = input('When is your birthday (dd/mm/yyyy)? ') # input dd/mm/yyyy and dd-mm-yyyy\n",
    "birthday_date = datetime.strptime(birthday, '%d/%m/%Y')"
   ]
  },
  {
   "source": [
    "## 6. Error handling\n",
    "\n",
    "Error handling in Python is managed through the use of [try/except/finally](https://docs.python.org/3.7/reference/compound_stmts.html#except). \n",
    "\n",
    "### 6.1 Distinction between *Error handling* and *Debugging*:\n",
    "- Error handling: handling the unpredictable error when the code is pushed out to production, for example, permission issue, data base changing or a server being down\n",
    "- Debugging: handling the incorrect coding that cause bugs  \n",
    "\n",
    "### 6.2 Error types\n",
    "- Syntax error: with a syntax error, a code is not going to run at all, the error message will typically point you right to where the problem is\n",
    "```python\n",
    "if x == y\n",
    "    print(x)\n",
    "```\n",
    "- Runtime error: where a code is running, something has gone wrong\n",
    "```python\n",
    "x = 14\n",
    "print(x/0)\n",
    "```\n",
    "- Logic error: code compiles properly and gives no error message, but it doesn't gives the response we are looking for\n",
    "\n",
    ">> Unit testing and test-driven development: write little automated tests to try and catch mistakes of code \n",
    "\n",
    "![Figure out what went wrong:](https://tva1.sinaimg.cn/large/007S8ZIlgy1gipllsajx6j30n40c678p.jpg)\n",
    "\n",
    "## 6.3 try/except/finally\n",
    "\n",
    "Python has numerous [built-in exceptions](https://docs.python.org/3.7/library/exceptions.html). When creating `except` blocks, they need to be created from most specific to most generic according to the [hierarchy](https://docs.python.org/3.7/library/exceptions.html#exception-hierarchy).\n",
    "```python\n",
    "x = 42\n",
    "y = 0\n",
    "try:\n",
    "    print(x / y)\n",
    "except ZeroDivisionError as e:\n",
    "    # Optionally, log e somewhere\n",
    "    print('Sorry, something went wrong')\n",
    "except:\n",
    "    print('Something really went wrong')\n",
    "finally:\n",
    "    print('This always runs on success or failure')\n",
    "```\n",
    "\n",
    "### 6.3.1 When to use try/except/finally\n",
    "**When something might go wrong**\n",
    "- User input\n",
    "- Accessing an external system\n",
    "- - REST call\n",
    "- - File system\n",
    "**You can act upon the error**\n",
    "- Logging\n",
    "- Graceful exit\n",
    "\n",
    "\n",
    "### 6.3.2 Notes when handling errors\n",
    "\n",
    "**Not used to find bugs**: Debugging is not error handling, if you use try/except/finally, you will never see what the original error message was\n",
    "\n",
    "**You don't have to catch all errors**\n",
    "- Let it bubble up\n",
    "- Someone else will deal with it\n",
    "- Sometimes, crash of the application is exactly what you want to happen"
   ],
   "cell_type": "markdown",
   "metadata": {}
  },
  {
   "source": [
    "## 7. Conditions\n",
    "\n",
    "Conditional execution can be completed using the [if](https://docs.python.org/3/reference/compound_stmts.html#the-if-statement) statement. `if` syntax: \n",
    "\n",
    "```python\n",
    "if expression:\n",
    "    # code to execute\n",
    "elif expression:\n",
    "    # code to execute\n",
    "else:\n",
    "    # code to execute\n",
    "```\n",
    "\n",
    "[Boolean values](https://docs.python.org/3/library/stdtypes.html#boolean-values) can be either `False` or `True`\n",
    "\n",
    "[Boolean operators](https://docs.python.org/3/library/stdtypes.html#boolean-operations-and-or-not): \n",
    "\n",
    "- **x *or* y**: If either x **OR** y is true, the expression is executed\n",
    "- **x *and* y**: If x **AND** y are both true, the expression is executed\n",
    "\n",
    "[Comparison operators](https://docs.python.org/3/library/stdtypes.html#comparisons): \n",
    "\n",
    "- < less than\n",
    "- < greater than\n",
    "- == is equal to\n",
    "- \\>= greater than or equal to\n",
    "- <= less than or equal to\n",
    "- != not equal to\n",
    "- **x *in* [a,b,c]** Does x match the value of a, b, or c"
   ],
   "cell_type": "markdown",
   "metadata": {}
  },
  {
   "source": [
    "## 8. Collections\n",
    "Collections are groups of items. \n",
    "\n",
    "**Common operations**:\n",
    "\n",
    "- `.append`: append a value at the end of a list\n",
    "- `.insert`: insert a value at a specific position of a list\n",
    "- `.sort`: sort the value of a list\n",
    "\n",
    "### 8.1 Lists\n",
    "\n",
    "[Lists](https://docs.python.org/3/tutorial/introduction.html#lists) are a collection of items. Lists can be expanded or contracted as needed, and can contain any data type. Lists are most commonly used to store a single column collection of information, however it is possible to [nest lists](https://docs.python.org/3/tutorial/datastructures.html#nested-list-comprehensions)\n"
   ],
   "cell_type": "markdown",
   "metadata": {}
  },
  {
   "cell_type": "code",
   "execution_count": 9,
   "metadata": {
    "tags": []
   },
   "outputs": [
    {
     "output_type": "stream",
     "name": "stdout",
     "text": "['Susan', 'Christopher']\n[98, 99]\n2\n['Bill', 'Susan', 'Christopher']\n['Bill', 'Christopher', 'Susan']\n['Bill', 'Christopher']\n"
    }
   ],
   "source": [
    "# append\n",
    "names = ['Susan', 'Christopher']\n",
    "scores = []\n",
    "scores.append(98)\n",
    "scores.append(99)\n",
    "print(names)\n",
    "print(scores)\n",
    "# insert\n",
    "print(len(names)) # Get the number of items\n",
    "names.insert(0, 'Bill') # Insert before index\n",
    "print(names)\n",
    "# sort\n",
    "names.sort()\n",
    "print(names)\n",
    "# indexing\n",
    "presenters = names[0:2] \n",
    "print(presenters)"
   ]
  },
  {
   "source": [
    "### 8.2 Arrays\n",
    "\n",
    "[Arrays](https://docs.python.org/3/library/array.html) are similar to lists, however are designed to store a uniform basic data type, such as integers or floating point numbers."
   ],
   "cell_type": "markdown",
   "metadata": {}
  },
  {
   "cell_type": "code",
   "execution_count": 7,
   "metadata": {
    "tags": []
   },
   "outputs": [
    {
     "output_type": "stream",
     "name": "stdout",
     "text": "array('d', [97.0, 98.0])\n98.0\n"
    }
   ],
   "source": [
    "from array import array\n",
    "scores = array('d') # \n",
    "scores.append(97)\n",
    "scores.append(98)\n",
    "print(scores)\n",
    "print(scores[1])"
   ]
  },
  {
   "source": [
    "**Array vs List**:\n",
    "- Array: Simple types such as numbers. Must all be the same type\n",
    "- List: Store anything. Store any type"
   ],
   "cell_type": "markdown",
   "metadata": {}
  },
  {
   "source": [
    "### 8.3 Dictionaries\n",
    "\n",
    "[Dictionaries](https://docs.python.org/3/tutorial/datastructures.html#dictionaries) are key/value pairs of a collection of items, which are very similar to Json. Unlike a list where items can only be accessed by their index or value, dictionaries use keys to identify each item."
   ],
   "cell_type": "markdown",
   "metadata": {}
  },
  {
   "cell_type": "code",
   "execution_count": null,
   "metadata": {},
   "outputs": [],
   "source": [
    "person = {'first': 'Christopher'}\n",
    "person['last'] = 'Harrison'\n",
    "print(person)\n",
    "print(person['first']) # use key to index"
   ]
  },
  {
   "source": [
    "**Dictionary vs List**:\n",
    "- Dictionary: Key/Value pairs. Storage order not guaranteed\n",
    "- List: Zero-based numeric index. Storage order guaranteed"
   ],
   "cell_type": "markdown",
   "metadata": {}
  },
  {
   "source": [
    "## 9. Loop\n",
    "\n",
    "### 9.1 For loops\n",
    "\n",
    "[For loops](https://docs.python.org/3/reference/compound_stmts.html#the-for-statement) takes each item in an array or collection in order, and assigns it to the variable you define."
   ],
   "cell_type": "markdown",
   "metadata": {}
  },
  {
   "cell_type": "code",
   "execution_count": 1,
   "metadata": {
    "tags": []
   },
   "outputs": [
    {
     "output_type": "stream",
     "name": "stdout",
     "text": "Christopher\nSusan\n0\n1\n"
    }
   ],
   "source": [
    "names = ['Christopher', 'Susan']\n",
    "for name in names:\n",
    "    print(name)\n",
    "# loop a number of times\n",
    "# range(starting_number, number_of_items): creates an array\n",
    "for index in range(0, 2): # [0, 1]\n",
    "    print(index)"
   ]
  },
  {
   "cell_type": "markdown",
   "metadata": {},
   "source": [
    "### 9.2 While loops\n",
    "\n",
    "[While loops](https://docs.python.org/3/reference/compound_stmts.html#the-while-statement) perform an operation as long as a condition is true."
   ]
  },
  {
   "cell_type": "code",
   "execution_count": null,
   "metadata": {},
   "outputs": [],
   "source": [
    "index = 0\n",
    "while index < len(names):\n",
    "    name = names[index]\n",
    "    print(name)\n",
    "    index = index + 1 # make sure condition change"
   ]
  },
  {
   "cell_type": "markdown",
   "metadata": {},
   "source": [
    "## 10. Function\n",
    "\n",
    "[Functions](https://docs.python.org/3/tutorial/controlflow.html#defining-functions) allow you to take code that is repeated and move it to a module that can be called when needed. Functions can accept parameters and return values.\n",
    "\n",
    "```python\n",
    "def functionname(parameter):\n",
    "    # code to execute\n",
    "    return value\n",
    "```\n",
    "\n",
    "### 10.1 Parameter\n",
    "Python has various types of [parameters](https://getkt.com/blog/types-of-function-arguments-in-python/):\n",
    "\n",
    "- **Positional Parameter**:"
   ]
  },
  {
   "cell_type": "code",
   "execution_count": 3,
   "metadata": {},
   "outputs": [
    {
     "output_type": "execute_result",
     "data": {
      "text/plain": "5"
     },
     "metadata": {},
     "execution_count": 3
    }
   ],
   "source": [
    "def add(a, b):\n",
    "    '''\n",
    "    usage\n",
    "    :param:\n",
    "    :return:\n",
    "    '''\n",
    "    return a + b\n",
    "# function call\n",
    "add(2, 3)"
   ]
  },
  {
   "cell_type": "markdown",
   "metadata": {},
   "source": [
    "- **Keyword Parameter**: use keyword when calling a function will make your code more readable"
   ]
  },
  {
   "cell_type": "code",
   "execution_count": 2,
   "metadata": {
    "tags": []
   },
   "outputs": [
    {
     "output_type": "stream",
     "name": "stdout",
     "text": "Hello neo! Welcom, Good Morning\nHello neo! Welcome\n"
    }
   ],
   "source": [
    "# Default value\n",
    "def greetings(name, msg=\"Welcom, Good Morning\"):\n",
    "     message = \"Hello {}! {}\".format(name, msg)\n",
    "     print(message)\n",
    "# function call\n",
    "greetings(\"neo\")\n",
    "# position doesn't matter: passing arguments by Keywords\n",
    "greetings(msg=\"Welcome\", name=\"neo\")"
   ]
  },
  {
   "cell_type": "markdown",
   "metadata": {},
   "source": [
    "- **Variable Length Positional Arguments (`*arg`)**: Variable length positional arguments are useful when we are not certain about number of arguments that are required in the function definition or function would receive. \n",
    ">> You can unpack and pass each element in the sequence as individual argument just by prefixing `*` in front of the sequence"
   ]
  },
  {
   "cell_type": "code",
   "execution_count": null,
   "metadata": {},
   "outputs": [],
   "source": [
    "def foo(a, b, c, *varargs):\n",
    "     print(\"Regular Positional Arguments\", a, b, c)\n",
    "     print(\"Variable Length Positional arguments\", varargs)\n",
    "# function call\n",
    "foo(2, 3, 4)\n",
    "foo(1, 2, 3, 4, 5, 7)\n",
    "foo(1, 2, 3, *'hello') # unpack each element in the sequence\n",
    "foo(1, 2, 3, 'hello')"
   ]
  },
  {
   "cell_type": "markdown",
   "metadata": {},
   "source": [
    "- **Variable Length Keyword Arguments (`**arg`)**: Python captures all extra keyword arguments as dictionary and makes it available by name(variable) which is prefixed by `**` in the function definition."
   ]
  },
  {
   "cell_type": "code",
   "execution_count": null,
   "metadata": {},
   "outputs": [],
   "source": [
    "def printKWArgs(a, b, c, **kwargs):\n",
    "     print(\"Regular Positional Arguments\", a, b, c)\n",
    "     print(\"Variable Length keyword arguments\", kwargs)\n",
    "# function call\n",
    "printKWArgs(2, 3, c=5)\n",
    "printKWArgs(2, 3, c=4, d=9, e=10)"
   ]
  },
  {
   "cell_type": "markdown",
   "metadata": {},
   "source": [
    "## 11. Module and Package\n",
    "\n",
    "### 11.1 Module\n",
    "\n",
    "[Modules](https://docs.python.org/3/tutorial/modules.html) allow you to store reusable blocks of code, such as functions, in separate files. They're referenced by using the `import` statement.\n",
    "\n",
    "**Creating a module:**\n",
    "```python\n",
    "# helpers.py\n",
    "def display(message, is_warning=False):\n",
    "\tif is_warning:\n",
    "\t\tprint('Warning!!')\n",
    "\tprint(message)\n",
    "```\n",
    "\n",
    "**Importing a module:**\n",
    "```python\n",
    "# import module as namespace\n",
    "import helpers\n",
    "helpers.display('Not a warning')\n",
    "\u000b# import all into current namespace\n",
    "from helpers import *\n",
    "display('Not a warning')\n",
    "\u000b# import specific items into current namespace\n",
    "from helpers import display\n",
    "display('Not a warning')\n",
    "```\n",
    "\n",
    "### 11.2 Package\n",
    "\n",
    "Packages are published collections of modules. Imports from packages follow the same syntax as modules you've created. The [Python Package index](https://pypi.org/) contains a full list of packages you can install using [pip](https://pip.pypa.io/en/stable/).\n",
    "\n",
    "** Installing packages:**\n",
    "```python\n",
    "# Install an individual package\n",
    "pip install colorama\n",
    "\n",
    "# Install from a list of packages\n",
    "pip install -r requirements.txt\n",
    "```\n",
    "\n",
    "\n",
    "### 11.3 Virtual Environment  \n",
    "\n",
    "[Virtual environments](https://docs.python.org/3.7/tutorial/venv.html) allow you to install packages into an isolated folder. This allows you to better manage versions.\n",
    "\n",
    "** Creating a Virtual Environment:**\n",
    "```\n",
    "# Install virtual environment\n",
    "pip install virtualenv\n",
    "\n",
    "# Windows systems\n",
    "python –m venv <folder_name>\n",
    "\n",
    "# OSX/Linux (bash)\n",
    "virtualenv <folder_name>\n",
    "```\n",
    "\n",
    "**Using virtual environment:**\n",
    "```\n",
    "# Windows systems\n",
    "# cmd.exe\n",
    "<folder_name>\\Scripts\\Activate.bat\n",
    "# Powershell\n",
    "<folder_name>\\Scripts\\Activate.ps1\n",
    "# bash shell\n",
    "# The . (\"dot\") command is a synonym/shortcut for `source` command.\n",
    ". ./<folder_name>/Scripts/activate \n",
    "\n",
    "# OSX/Linux (bash)\n",
    "<folder_name>/bin/activate\n",
    "```"
   ]
  },
  {
   "cell_type": "markdown",
   "metadata": {},
   "source": [
    "## 12. API\n",
    "\n",
    "### 12.1 Web Service\n",
    "\n",
    "When a developer wants to share the functionality of a function but not the actual code in the program, they can place the function on a web server.  \n",
    "A programmer with the address of that function on the web server and the required permissions can call the function.  \n",
    "![web_service](https://i.bmp.ovh/imgs/2020/09/981af65c6a65d10d.png)\n",
    "\n",
    "### 12.2 API\n",
    "\n",
    "You can't call a function unless you know the function name and the required parameters. When you create a web service you create an Application Programming Interface (API). The **API** defines the function names and parameters so others know how to call your function.  \n",
    "```\n",
    "analyze(visualfeatures, details, language)\n",
    "```\n",
    "\n",
    "### 12.3 Key\n",
    "A developer signs up on my web site, or buys a license for my software and is provided a **unique key**. When the developer calls my web service, they provide their unique key and I am able to verify the key has been approved for calls to my web service.\n",
    "\n",
    "![key](https://i.bmp.ovh/imgs/2020/09/6627599e6c9d6937.png)\n",
    "\n",
    "### 12.4 HTTP\n",
    "Hypertext Transfer Protocol (HTTP) is a standard protocol for sending messages across the web\n",
    "\n",
    "- **GET**: pass values in query string only\n",
    "- - Special characters must be \"escaped\"\n",
    "- - Limited amount of data\n",
    "\n",
    "- **POST**: pass values in query string and body\n",
    "- - No need to escape special characters if passed in body\n",
    "- - Can pass large amounts of data, including images, in body\n",
    "\n",
    "The `requests` library simplifies HTTP calls from Python code:\n",
    "\n",
    "```\n",
    "requests.post(\n",
    "              address,              # contoso/analyze\n",
    "              http_headers,         # content-type, API key\n",
    "              function_parameters,  # visualfeatures, details, language\n",
    "              message_body          # image file\n",
    "              )\n",
    "```\n",
    "\n",
    "### 12.5 Example: call the Computer Vision API\n",
    "You can find documentation on the [Computer Vision Analyze Image method](https://westus.dev.cognitive.microsoft.com/docs/services/5adf991815e1060e6355ad44/operations/56f91f2e778daf14a499e1fa)\n",
    "```python\n",
    "# Use the requests library to simplify making a REST API call from Python \n",
    "import requests\n",
    "\n",
    "# We will need the json library to read the data passed back \n",
    "# by the web service\n",
    "import json\n",
    "\n",
    "# You need to update the SUBSCRIPTION_KEY to \n",
    "# they key for your Computer Vision Service\n",
    "SUBSCRIPTION_KEY = \"xxxxxxxxxxxxxxxxxxxxxxxxxxx\"\n",
    "\n",
    "# You need to update the vision_service_address to the address of\n",
    "# your Computer Vision Service\n",
    "vision_service_address = \"https://canadacentral.api.cognitive.microsoft.com/vision/v2.0/\"\n",
    "\n",
    "# Add the name of the function you want to call to the address\n",
    "address = vision_service_address + \"analyze\"\n",
    "\n",
    "# According to the documentation for the analyze image function \n",
    "# There are three optional parameters: language, details & visualFeatures\n",
    "parameters  = {'visualFeatures':'Description,Color',\n",
    "               'language':'en'}\n",
    "\n",
    "# Open the image file to get a file object containing the image to analyze\n",
    "image_path = \"./TestImages/PolarBear.jpg\"\n",
    "image_data = open(image_path, \"rb\").read()\n",
    "\n",
    "# According to the documentation for the analyze image function\n",
    "# we need to specify the subscription key and the content type\n",
    "# in the HTTP header. Content-Type is application/octet-stream when you pass in a image directly\n",
    "headers    = {'Content-Type': 'application/octet-stream',\n",
    "              'Ocp-Apim-Subscription-Key': SUBSCRIPTION_KEY}\n",
    "\n",
    "# According to the documentation for the analyze image function\n",
    "# we use HTTP POST to call this function\n",
    "response = requests.post(address, headers=headers, params=parameters, data=image_data)\n",
    "\n",
    "# Raise an exception if the call returns an error code\n",
    "response.raise_for_status()\n",
    "\n",
    "# Display the JSON results returned\n",
    "results = response.json()\n",
    "print(json.dumps(results))\n",
    "```"
   ]
  },
  {
   "cell_type": "markdown",
   "metadata": {},
   "source": [
    "## 13. JSON\n",
    "\n",
    "Many APIs return data in [JSON](https://json.org/), JavaScript Object Notation. JSON is a standard format that can is readable by humans and parsed or generated by code. \n",
    "\n",
    "JSON is built on two structures:\n",
    "\n",
    "- collections of key/value pairs\n",
    "- - {\"key\":\"value\"}\n",
    "```\n",
    "# retrieve value\n",
    "dict['key']\n",
    "```\n",
    "- - {\"key\":{\"subkey0\":\"subvalue0\",\"subkey1\":\"subvalue1\", …}\n",
    "```\n",
    "# retrieve subvalue1\n",
    "dict['key']['subkey1']\n",
    "```\n",
    "\n",
    "- lists of values\n",
    "- - {\"key\":[listvalue0, listvalue1, listvalue2, …]}\n",
    "```\n",
    "# retrieve listvalue1\n",
    "dict['key'][1]\n",
    "# retrieve all values\n",
    "[item for item in dict['key']]\n",
    "```\n",
    "\n",
    "JSON Linters will format JSON so it easier to read by a human. The following website have JSON linters:\n",
    "- [JSONLint](https://jsonlint.com/)\n",
    "- [ConvertJson.com](http://www.convertjson.com/jsonlint.htm)\n",
    "- [JSON schema linter](https://www.json-schema-linter.com/)\n",
    "\n",
    "Python includes a [json](https://docs.python.org/2/library/json.html) module which helps you encode and decode JSON\n",
    "\n",
    "### 13.1 Create JSON\n",
    "\n",
    "**{\"key\":\"value\"}**:\n"
   ]
  },
  {
   "cell_type": "code",
   "execution_count": 4,
   "metadata": {},
   "outputs": [
    {
     "output_type": "error",
     "ename": "NameError",
     "evalue": "name 'json' is not defined",
     "traceback": [
      "\u001b[1;31m---------------------------------------------------------------------------\u001b[0m",
      "\u001b[1;31mNameError\u001b[0m                                 Traceback (most recent call last)",
      "\u001b[1;32m<ipython-input-4-9b9ad7f62cd2>\u001b[0m in \u001b[0;36m<module>\u001b[1;34m\u001b[0m\n\u001b[0;32m      5\u001b[0m \u001b[1;33m\u001b[0m\u001b[0m\n\u001b[0;32m      6\u001b[0m \u001b[1;31m# Convert dictionary to JSON object\u001b[0m\u001b[1;33m\u001b[0m\u001b[1;33m\u001b[0m\u001b[1;33m\u001b[0m\u001b[0m\n\u001b[1;32m----> 7\u001b[1;33m \u001b[0mperson_json\u001b[0m \u001b[1;33m=\u001b[0m \u001b[0mjson\u001b[0m\u001b[1;33m.\u001b[0m\u001b[0mdumps\u001b[0m\u001b[1;33m(\u001b[0m\u001b[0mperson_dict\u001b[0m\u001b[1;33m)\u001b[0m\u001b[1;33m\u001b[0m\u001b[1;33m\u001b[0m\u001b[0m\n\u001b[0m\u001b[0;32m      8\u001b[0m \u001b[0mprint\u001b[0m\u001b[1;33m(\u001b[0m\u001b[0mperson_json\u001b[0m\u001b[1;33m)\u001b[0m\u001b[1;33m\u001b[0m\u001b[1;33m\u001b[0m\u001b[0m\n",
      "\u001b[1;31mNameError\u001b[0m: name 'json' is not defined"
     ]
    }
   ],
   "source": [
    "import json\n",
    "\n",
    "# Create a dictionary object\n",
    "person_dict = {'first': 'Christopher', 'last':'Harrison'}\n",
    "# Add additional key pairs as needed to dictionary\n",
    "person_dict['City']='Seattle'\n",
    "\n",
    "# Convert dictionary to JSON object\n",
    "person_json = json.dumps(person_dict)\n",
    "print(person_json)"
   ]
  },
  {
   "cell_type": "markdown",
   "metadata": {},
   "source": [
    "**{\"key\":{\"subkey0\":\"subvalue0\",\"subkey1\":\"subvalue1\",…}**:"
   ]
  },
  {
   "cell_type": "code",
   "execution_count": null,
   "metadata": {},
   "outputs": [],
   "source": [
    "person_dict = {'first': 'Christopher', 'last':'Harrison'}\n",
    "\n",
    "# Create staff dictionary which assigns a person to a role\n",
    "staff_dict ={}\n",
    "staff_dict['Program Manager']=person_dict\n",
    "\n",
    "# Convert dictionary to JSON object\n",
    "staff_json = json.dumps(staff_dict)\n",
    "# Print JSON object\n",
    "print(staff_json)"
   ]
  },
  {
   "cell_type": "markdown",
   "metadata": {},
   "source": [
    "**{\"key\":[listvalue0, listvalue1, listvalue2, …]}**:"
   ]
  },
  {
   "cell_type": "code",
   "execution_count": null,
   "metadata": {},
   "outputs": [],
   "source": [
    "person_dict = {'first': 'Christopher', 'last':'Harrison'}\n",
    "\n",
    "# Create a list object of programming languages\n",
    "languages_list = ['CSharp','Python','JavaScript' ]\n",
    "# Add list to dictionary\n",
    "person_dict['languages']= languages_list\n",
    "\n",
    "# Convert dictionary to JSON object\n",
    "person_json = json.dumps(person_dict)\n",
    "print(person_json)"
   ]
  },
  {
   "cell_type": "markdown",
   "metadata": {},
   "source": [
    "## 14. Environmental Variable\n",
    "\n",
    "The variables that will be read from somewhere external to the application. The application might crash if environment variables change. And the content of the variables might be sensitive and you don't want to share it to other people.\n",
    "- Connecting to a database\n",
    "- Determining the operating system\n",
    "- Setting which need to change\n",
    "- Sensitive data\n",
    "\n",
    "**Notes**:\n",
    "- Don't hard code sensitive information forever\n",
    "- Use dotenv for a simple solution: add `.env` to `.gitignore`\n",
    "- Consider full encryption options: Azure Key Vault"
   ]
  },
  {
   "cell_type": "markdown",
   "metadata": {},
   "source": [
    "### 14.1 Read environmental variables"
   ]
  },
  {
   "cell_type": "code",
   "execution_count": null,
   "metadata": {},
   "outputs": [],
   "source": [
    "import os\n",
    "os_version = os.getenv('OS') # OS version\n",
    "print(os_version)"
   ]
  },
  {
   "cell_type": "markdown",
   "metadata": {},
   "source": [
    "### 14.2 Using dotenv\n",
    "To manage and secure environmental variables, we can store environmental variables in a '.env' file:\n",
    "- Don't hard code\n",
    "- Don't check sensitive values into source control"
   ]
  },
  {
   "cell_type": "code",
   "execution_count": null,
   "metadata": {},
   "outputs": [],
   "source": [
    "# pip install python-dotenv\n",
    "# .env file\n",
    "DATABASE = Sample_Connection_String\n",
    "\n",
    "# app.py\n",
    "from dotenv import load_dotenv\n",
    "import os\n",
    "load_dotenv()\n",
    "databse = os.getenv('DATABASE')\n",
    "print(databse)"
   ]
  },
  {
   "cell_type": "markdown",
   "metadata": {},
   "source": [
    "## 15. Decorators\n",
    "\n",
    "[Decorators](https://www.python.org/dev/peps/pep-0318/) are similar to attributes in that they add meaning or functionality to blocks of code in Python. They're frequently used in frameworks such as [Flask](http://flask.pocoo.org/) or [Django](https://www.djangoproject.com/). The most common interaction you'll have with decorators as a Python developer is through **using them rather than creating them**.\n",
    "\n",
    "```python\n",
    "# Snippet from Flask\n",
    "# register https://myserver/api/products\n",
    "\n",
    "@route('api/products') # visit this to call get_products\n",
    "def get_products:\n",
    "    #code to list from database\n",
    "    pass\n",
    "```\n",
    "\n",
    "### 15.1 Creating a decorator"
   ]
  },
  {
   "cell_type": "code",
   "execution_count": 8,
   "metadata": {
    "tags": []
   },
   "outputs": [
    {
     "output_type": "stream",
     "name": "stdout",
     "text": "Logging execution\n-- Inside sample function\nDone logging\n"
    }
   ],
   "source": [
    "# example 1: logger\n",
    "def logger(func): # name of decorator\n",
    "    def wrapper():\n",
    "        print('Logging execution')\n",
    "        func()\n",
    "        print('Done logging')\n",
    "    return wrapper\n",
    "\n",
    "@logger\n",
    "def sample():\n",
    "    print('-- Inside sample function')\n",
    "\n",
    "sample()"
   ]
  },
  {
   "cell_type": "code",
   "execution_count": 9,
   "metadata": {
    "tags": []
   },
   "outputs": [
    {
     "output_type": "stream",
     "name": "stdout",
     "text": "changing to blue\nHello, world!!\nJust saying hi again\n"
    }
   ],
   "source": [
    "# example 2: color\n",
    "import functools\n",
    "from colorama import init, Fore\n",
    "init()\n",
    "\n",
    "def color(color):\n",
    "    def wrapper(func):\n",
    "        @functools.wraps(func)\n",
    "        def runner(*args, **kwargs):\n",
    "            print(color + 'changing to blue')\n",
    "            func(*args, **kwargs)\n",
    "        return runner\n",
    "    return wrapper\n",
    "\n",
    "@color(color=Fore.BLUE)\n",
    "def greeter():\n",
    "    print('Hello, world!!')\n",
    "    print('Just saying hi again')\n",
    "\n",
    "greeter()"
   ]
  },
  {
   "cell_type": "markdown",
   "metadata": {},
   "source": [
    "---\n",
    "\n",
    "## Next steps\n",
    "\n",
    "As the goal of this course is to help get you up to speed on Python so you can work through a quick start, the next step after completing the videos is to follow a tutorial! Here's a few of our favorites:\n",
    "\n",
    "- [Quickstart: Detect faces in an image using the Face REST API and Python](https://docs.microsoft.com/azure/cognitive-services/face/QuickStarts/Python?WT.mc_id=python-c9-niner?WT.mc_id=python-c9-niner)\n",
    "- [Quickstart: Analyze a local image using the Computer Vision REST API and Python](https://docs.microsoft.com/azure/cognitive-services/computer-vision/quickstarts/python-disk?WT.mc_id=python-c9-niner?WT.mc_id=python-c9-niner)\n",
    "- [Quickstart: Using the Python REST API to call the Text Analytics Cognitive Service](https://docs.microsoft.com/azure/cognitive-services/Text-Analytics/quickstarts/python?WT.mc_id=python-c9-niner?WT.mc_id=python-c9-niner)\n",
    "- [Tutorial: Build a Flask app with Azure Cognitive Services](https://docs.microsoft.com/azure/cognitive-services/translator/tutorial-build-flask-app-translation-synthesis?WT.mc_id=python-c9-niner)\n",
    "- [Flask tutorial in Visual Studio Code](https://code.visualstudio.com/docs/python/tutorial-flask?WT.mc_id=python-c9-niner)\n",
    "- [Django tutorial in Visual Studio Code](https://code.visualstudio.com/docs/python/tutorial-django?WT.mc_id=python-c9-niner)"
   ]
  }
 ]
}