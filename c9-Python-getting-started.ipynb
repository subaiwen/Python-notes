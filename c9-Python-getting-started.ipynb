{
 "metadata": {
  "language_info": {
   "codemirror_mode": {
    "name": "ipython",
    "version": 3
   },
   "file_extension": ".py",
   "mimetype": "text/x-python",
   "name": "python",
   "nbconvert_exporter": "python",
   "pygments_lexer": "ipython3",
   "version": "3.7.6-final"
  },
  "orig_nbformat": 2,
  "kernelspec": {
   "name": "python37664bittestconda10ed6a4db44c47748eab848751d1a768",
   "display_name": "Python 3.7.6 64-bit ('test': conda)"
  }
 },
 "nbformat": 4,
 "nbformat_minor": 2,
 "cells": [
  {
   "cell_type": "markdown",
   "metadata": {},
   "source": [
    "# Intro to Python Development\n",
    "- Author: Christopher Harrison, Susan Ibach  \n",
    "- [Github](https://github.com/microsoft/c9-python-getting-started): sample code and slides  \n",
    "- [Website](https://aka.ms/pythonbeginnerseries): video course  \n",
    "- [Bilibili](https://www.bilibili.com/video/BV1nE41127zQ): video course in Chinese \n",
    "- [Microsoft learn](https://docs.microsoft.com/en-us/learn/modules/intro-to-python/): text-based course  \n",
    "- Learning Website: [https://channel9.msdn.com/](https://channel9.msdn.com/) \n",
    "\n",
    "---"
   ]
  },
  {
   "cell_type": "markdown",
   "metadata": {},
   "source": [
    "## 0. Concepts\n",
    "What is Python?\n",
    "- Flexible programming language\n",
    "- Designed to be human readable\n",
    "\n",
    "Why use Python?\n",
    "- Great starter language\n",
    "- Great advanced language\n",
    "- Wonderful community\n",
    "\n",
    "What can i build with Python\n",
    "- Machine Learning\n",
    "- Web development\n",
    "- Automation and scripting\n",
    "- Artificial intelligence projects\n",
    "- Anything"
   ]
  },
  {
   "cell_type": "markdown",
   "metadata": {},
   "source": [
    "## 1. Preparations\n",
    "### 1.1 Install Python (3.7)\n",
    "Interpreter: Somewhere to Python to run\n",
    "Installation: [https://www.python.org/downloads](https://www.python.org/downloads)\n",
    "\n",
    "### 1.2 Install Visual Studio Code\n",
    "- Installation: [code.visualstudio.com](https://code.visualstudio.com)  \n",
    "- Extension: Python\n",
    "\n",
    "\n",
    "\n",
    "\n",
    "---"
   ]
  },
  {
   "cell_type": "markdown",
   "metadata": {},
   "source": [
    "## 2. Print\n",
    "\n",
    "## 2.1 print()\n",
    "\n",
    "The [print](https://docs.python.org/3/library/functions.html#print) function allows you to send output to the terminal\n",
    "\n",
    "#### Strings can be enclosed in single quotes or double quotes, Pick one and stick to it\n",
    "\n",
    "- \"this is a string\"\n",
    "- 'this is also a string'\n",
    "\n",
    "#### Printing blank lines can improve readability\n",
    "\n",
    "```\n",
    "print('Hello world')\n",
    "print()\n",
    "print('Did you see that blank line?')\n",
    "print('Blank line \\nin the middle of string')\n",
    "\n",
    "```\n",
    "\n",
    "#### Debugging with print  \n",
    "When we're running code and trying to figure out which chunks of code are executing successfully and where it's failing, add a `print` statement would be really helpful\n",
    "\n",
    "```\n",
    "print('Adding numbers)\n",
    "x = 42 + 206\n",
    "print('Performing division')\n",
    "y = x / 0\n",
    "print('Math complete)\n",
    "```\n",
    "\n",
    "## 2.2 input()\n",
    "\n",
    "The [input]((https://docs.python.org/3/library/functions.html#input)) function allows you to prompt a user for a value\n",
    "  \n",
    "Parameters:\n",
    "\n",
    "- `prompt`: Message to display to the user  \n",
    "\n",
    "return value:\n",
    "\n",
    "- string value containing value entered by user\n"
   ]
  },
  {
   "cell_type": "markdown",
   "metadata": {},
   "source": [
    "## 3. String\n",
    "\n",
    "Python can store and manipulate strings. Strings can be enclosed in single or double quotes. There are a number of string methods you can use to manipulate and work with strings\n",
    "\n",
    "- [strings](https://docs.python.org/3/tutorial/introduction.html#strings)\n",
    "- [string methods](https://docs.python.org/3/library/stdtypes.html#string-methods)\n",
    "\n",
    "Converting to string values\n",
    "\n",
    "- [str](https://docs.python.org/3/library/functions.html#func-str)\n",
    "\n",
    "When naming variables follow the [PEP-8 Style Guide](https://www.python.org/dev/peps/pep-0008/#naming-conventions) for Python Code\n",
    "\n",
    "### 3.1 String styles\n",
    "\n",
    "If there was a single/double quote inside the string:"
   ]
  },
  {
   "cell_type": "code",
   "execution_count": null,
   "metadata": {},
   "outputs": [],
   "source": [
    "\n",
    "print(\"Why won't this line of code print\")  # Use double quote to enclose the string\n",
    "print('He says: \"Hi!\"')  # Use single quote to enclose the string\n",
    "print('don\\'t')  # use \\' to escape the quote\n",
    "print(r'this is raw string') # use raw string"
   ]
  },
  {
   "cell_type": "markdown",
   "metadata": {},
   "source": [
    "String literals can span multiple lines. One way is using triple-quotes: `\"\"\"...\"\"\"` or `'''...'''`. `\\` can prevent including new line."
   ]
  },
  {
   "cell_type": "code",
   "execution_count": 1,
   "metadata": {
    "tags": []
   },
   "outputs": [
    {
     "output_type": "stream",
     "name": "stdout",
     "text": "First line\nSecond line following by a new line\n\n"
    }
   ],
   "source": [
    "print('''\\\n",
    "First line\n",
    "Second line following by a new line\n",
    "''')"
   ]
  },
  {
   "cell_type": "markdown",
   "metadata": {},
   "source": [
    "### 3.2 Concantenating strings\n",
    "Two or more string literals (i.e. the ones enclosed between quotes) next to each other are automatically concatenated. This method does not work with variables or expressions."
   ]
  },
  {
   "cell_type": "code",
   "execution_count": 4,
   "metadata": {},
   "outputs": [
    {
     "output_type": "execute_result",
     "data": {
      "text/plain": "'Line 1 and line 1 still'"
     },
     "metadata": {},
     "execution_count": 4
    }
   ],
   "source": [
    "text = ('Line 1 '\n",
    "        'and line 1 still')\n",
    "text"
   ]
  },
  {
   "cell_type": "markdown",
   "metadata": {},
   "source": [
    "If you want to concatenate variables or a variable and a literal, use `+`:"
   ]
  },
  {
   "cell_type": "code",
   "execution_count": 6,
   "metadata": {
    "tags": []
   },
   "outputs": [
    {
     "output_type": "stream",
     "name": "stdout",
     "text": "Line 1 and line 1 still, so this is end of the online\n"
    }
   ],
   "source": [
    "print(text + ', ' + 'so this is end of the online')"
   ]
  },
  {
   "cell_type": "markdown",
   "metadata": {},
   "source": [
    "### 3.3 String functions"
   ]
  },
  {
   "cell_type": "code",
   "execution_count": 7,
   "metadata": {
    "tags": []
   },
   "outputs": [
    {
     "output_type": "stream",
     "name": "stdout",
     "text": "THE DOG IS NAMED SAMMY\nthe dog is named sammy\nThe dog is named sammy\n2\n"
    }
   ],
   "source": [
    "sentence = 'The dog is named Sammy'\n",
    "\n",
    "# upper() will return the string in uppercase letters\n",
    "print(sentence.upper())\n",
    "\n",
    "# lower() will return the string in lowercase letters\n",
    "print(sentence.lower())\n",
    "\n",
    "# capitalize() will return the string with the first letter uppercase\n",
    "# and the rest of the string in lowercase\n",
    "print(sentence.capitalize())\n",
    "\n",
    "# count() will count the number of occurrences of the value specified\n",
    "# in the string, in this case how many times the letter 'a' appears\n",
    "print(sentence.count('a'))"
   ]
  },
  {
   "cell_type": "markdown",
   "metadata": {},
   "source": [
    "### 3.4 Strings Format"
   ]
  },
  {
   "cell_type": "code",
   "execution_count": 8,
   "metadata": {
    "tags": []
   },
   "outputs": [
    {
     "output_type": "stream",
     "name": "stdout",
     "text": "Hello, Kobe Bryant\nHello, Kobe Bryant\nHello, Kobe Bryant\nHello, Kobe Bryant\nHello, Kobe Bryant\n"
    }
   ],
   "source": [
    "first_name = 'Kobe'\n",
    "last_name = 'Bryant'\n",
    "\n",
    "print('Hello, ' + first_name + ' ' + last_name)\n",
    "print('Hello, {} {}'.format(first_name, last_name))\n",
    "print('Hello, {0} {1}'.format(first_name, last_name))\n",
    "print('Hello, {first_name} {last_name}'.format(first_name = first_name, last_name = last_name))\n",
    "print(f'Hello, {first_name} {last_name}') # Only available in Python3"
   ]
  },
  {
   "cell_type": "markdown",
   "metadata": {},
   "source": [
    "## 4. Numbers"
   ]
  },
  {
   "cell_type": "markdown",
   "metadata": {},
   "source": [
    "Python can store and manipulate numbers. Python has two types of numeric values: integers (whole numbers) or float (numbers with decimal places)\n",
    "\n",
    "- [numeric types](https://docs.python.org/3/library/stdtypes.html#numeric-types-int-float-complex)\n",
    "\n",
    "Converting to numeric values\n",
    "\n",
    "- [int](https://docs.python.org/3/library/functions.html#int)\n",
    "- [float](https://docs.python.org/3/library/functions.html#float)"
   ]
  },
  {
   "cell_type": "markdown",
   "metadata": {},
   "source": [
    "### 4.1 Number Operation\n",
    "```\n",
    "print(first_num + second_num) # addition\n",
    "print(first_num - second_num) # subtraction\n",
    "print(first_num * second_num) # multiplication\n",
    "print(first_num / second_num) # division\n",
    "print(first_num ** second_num) # exponent\n",
    "```"
   ]
  },
  {
   "cell_type": "markdown",
   "metadata": {},
   "source": [
    "### 4.2 Combining string and number\n",
    "The `print` function can accept numbers or strings. The `+` operator can either add two numbers or it can concatenate two strings it does not know what to do when you pass it one number and one string."
   ]
  },
  {
   "cell_type": "code",
   "execution_count": 2,
   "metadata": {
    "tags": []
   },
   "outputs": [
    {
     "output_type": "stream",
     "name": "stdout",
     "text": "28\n"
    },
    {
     "output_type": "error",
     "ename": "TypeError",
     "evalue": "unsupported operand type(s) for +: 'int' and 'str'",
     "traceback": [
      "\u001b[0;31m---------------------------------------------------------------------------\u001b[0m",
      "\u001b[0;31mTypeError\u001b[0m                                 Traceback (most recent call last)",
      "\u001b[0;32m<ipython-input-2-e23025d68c04>\u001b[0m in \u001b[0;36m<module>\u001b[0;34m\u001b[0m\n\u001b[1;32m      1\u001b[0m \u001b[0mdays_in_feb\u001b[0m \u001b[0;34m=\u001b[0m \u001b[0;36m28\u001b[0m\u001b[0;34m\u001b[0m\u001b[0;34m\u001b[0m\u001b[0m\n\u001b[1;32m      2\u001b[0m \u001b[0mprint\u001b[0m\u001b[0;34m(\u001b[0m\u001b[0mdays_in_feb\u001b[0m\u001b[0;34m)\u001b[0m\u001b[0;34m\u001b[0m\u001b[0;34m\u001b[0m\u001b[0m\n\u001b[0;32m----> 3\u001b[0;31m \u001b[0mprint\u001b[0m\u001b[0;34m(\u001b[0m\u001b[0mdays_in_feb\u001b[0m \u001b[0;34m+\u001b[0m \u001b[0;34m' days in February'\u001b[0m\u001b[0;34m)\u001b[0m \u001b[0;31m# will cause an error\u001b[0m\u001b[0;34m\u001b[0m\u001b[0;34m\u001b[0m\u001b[0m\n\u001b[0m",
      "\u001b[0;31mTypeError\u001b[0m: unsupported operand type(s) for +: 'int' and 'str'"
     ]
    }
   ],
   "source": [
    "days_in_feb = 28\n",
    "print(days_in_feb)\n",
    "print(days_in_feb + ' days in February') # will cause an error"
   ]
  },
  {
   "cell_type": "markdown",
   "metadata": {},
   "source": [
    "- Convert the number to a string"
   ]
  },
  {
   "cell_type": "code",
   "execution_count": null,
   "metadata": {},
   "outputs": [],
   "source": [
    "print(str(days_in_feb) + ' days in February')"
   ]
  },
  {
   "cell_type": "markdown",
   "metadata": {},
   "source": [
    "- Convert strings to numbers for math or indexing"
   ]
  },
  {
   "cell_type": "code",
   "execution_count": 13,
   "metadata": {
    "tags": []
   },
   "outputs": [
    {
     "output_type": "stream",
     "name": "stdout",
     "text": "25\n25.0\n"
    }
   ],
   "source": [
    "first_num = input('Enter first number ')\n",
    "second_num = input('Enter second number ')\n",
    "# int() converts a string to an integer e.g. 5, 8, 416, 506\n",
    "print(int(first_num) + int(second_num))\n",
    "\n",
    "# float() converts a string to a decimal or float number e.g. 3.14159, 89.5, 1.0\n",
    "print(float(first_num) + float(second_num))"
   ]
  },
  {
   "cell_type": "markdown",
   "metadata": {},
   "source": [
    "## 5. Dates\n",
    "\n",
    "The [datetime module](https://docs.python.org/3/library/datetime.html) contains a number of classes for manipulating dates and times.\n",
    "\n",
    "Date and time types:\n",
    "\n",
    "- `date` stores year, month, and day\n",
    "- `time` stores hour, minute, and second\n",
    "- `datetime` stores year, month, day, hour, minute, and second\n",
    "- `timedelta` a duration of time between two dates, times, or datetimes\n",
    "\n",
    "Converting from string to datetime\n",
    "\n",
    "- [strptime](https://docs.python.org/2/library/datetime.html#strftime-and-strptime-behavior)\n"
   ]
  },
  {
   "source": [
    "### 5.1 Date functions\n",
    "\n",
    "- `datetime.now()`: returns current date and time\n",
    "- `datetime.timedelta()`: return duration of time as datatime object\n",
    "- `datetime.strptime()`: convert from string to datetime"
   ],
   "cell_type": "markdown",
   "metadata": {}
  },
  {
   "cell_type": "code",
   "execution_count": 1,
   "metadata": {
    "tags": []
   },
   "outputs": [
    {
     "output_type": "stream",
     "name": "stdout",
     "text": "Today is: 2020-09-12 17:46:07.124739\nYesterday was: 2020-09-11 17:46:07.124739\nLast week was: 2020-09-05 17:46:07.124739\n"
    }
   ],
   "source": [
    "#To get current date and time we need to use the datetime library\n",
    "from datetime import datetime, timedelta\n",
    "\n",
    "# The now function returns current date and time\n",
    "today = datetime.now()\n",
    "print('Today is: ' + str(today))\n",
    "\n",
    "#You can use timedelta to add or remove days, or weeks to a date\n",
    "one_day = timedelta(days=1)\n",
    "yesterday = today - one_day\n",
    "print('Yesterday was: ' + str(yesterday))\n",
    "\n",
    "one_week = timedelta(weeks=1)\n",
    "last_week = today - one_week\n",
    "print('Last week was: ' + str(last_week))"
   ]
  },
  {
   "source": [
    "### 5.2 Date format\n",
    "\n",
    "- `.day`: day part of the datetime object\n",
    "- `.month`\n",
    "- `.year`\n",
    "- `.hour`\n",
    "- `.minute`\n",
    "- `.second`"
   ],
   "cell_type": "markdown",
   "metadata": {}
  },
  {
   "cell_type": "code",
   "execution_count": 2,
   "metadata": {
    "tags": []
   },
   "outputs": [
    {
     "output_type": "stream",
     "name": "stdout",
     "text": "Day: 12\nMonth: 9\nYear: 2020\nHour: 17\nMinute: 46\nSecond: 7\n"
    }
   ],
   "source": [
    "# use day, month, year, hour, minute, second functions\n",
    "# to display only part of the date\n",
    "# All these functions return integers\n",
    "# Convert them to strings before concatenating them to another string\n",
    "print('Day: ' + str(today.day))\n",
    "print('Month: ' + str(today.month))\n",
    "print('Year: ' + str(today.year))\n",
    "\n",
    "print('Hour: ' + str(today.hour))\n",
    "print('Minute: ' + str(today.minute))\n",
    "print('Second: ' + str(today.second))"
   ]
  },
  {
   "source": [
    "### 5.3 Convert String to Date \n",
    "\n",
    "When you convert the string containing the date into a date object you must specify the expected date format if the date is not in the expected format Python will raise an exception"
   ],
   "cell_type": "markdown",
   "metadata": {}
  },
  {
   "cell_type": "code",
   "execution_count": null,
   "metadata": {},
   "outputs": [],
   "source": [
    "# When you ask a user for a date tell them the desired date format\n",
    "birthday = input('When is your birthday (dd/mm/yyyy)? ') # input dd/mm/yyyy and dd-mm-yyyy\n",
    "birthday_date = datetime.strptime(birthday, '%d/%m/%Y')"
   ]
  },
  {
   "source": [
    "## 6. Error handling\n",
    "\n",
    "Error handling in Python is managed through the use of [try/except/finally](https://docs.python.org/3.7/reference/compound_stmts.html#except). \n",
    "\n",
    "### 6.1 Distinction between *Error handling* and *Debugging*:\n",
    "- Error handling: handling the unpredictable error when the code is pushed out to production, for example, permission issue, data base changing or a server being down\n",
    "- Debugging: handling the incorrect coding that cause bugs  \n",
    "\n",
    "### 6.2 Error types\n",
    "- Syntax error: with a syntax error, a code is not going to run at all, the error message will typically point you right to where the problem is\n",
    "```python\n",
    "if x == y\n",
    "    print(x)\n",
    "```\n",
    "- Runtime error: where a code is running, something has gone wrong\n",
    "```python\n",
    "x = 14\n",
    "print(x/0)\n",
    "```\n",
    "- Logic error: code compiles properly and gives no error message, but it doesn't gives the response we are looking for\n",
    "\n",
    ">> Unit testing and test-driven development: write little automated tests to try and catch mistakes of code \n",
    "\n",
    "![Figure out what went wrong:](https://tva1.sinaimg.cn/large/007S8ZIlgy1gipllsajx6j30n40c678p.jpg)\n",
    "\n",
    "## 6.3 try/except/finally\n",
    "\n",
    "Python has numerous [built-in exceptions](https://docs.python.org/3.7/library/exceptions.html). When creating `except` blocks, they need to be created from most specific to most generic according to the [hierarchy](https://docs.python.org/3.7/library/exceptions.html#exception-hierarchy).\n",
    "```python\n",
    "x = 42\n",
    "y = 0\n",
    "try:\n",
    "    print(x / y)\n",
    "except ZeroDivisionError as e:\n",
    "    # Optionally, log e somewhere\n",
    "    print('Sorry, something went wrong')\n",
    "except:\n",
    "    print('Something really went wrong')\n",
    "finally:\n",
    "    print('This always runs on success or failure')\n",
    "```\n",
    "\n",
    "### 6.3.1 When to use try/except/finally\n",
    "**When something might go wrong**\n",
    "- User input\n",
    "- Accessing an external system\n",
    "- - REST call\n",
    "- - File system\n",
    "**You can act upon the error**\n",
    "- Logging\n",
    "- Graceful exit\n",
    "\n",
    "\n",
    "### 6.3.2 Notes when handling errors\n",
    "\n",
    "**Not used to find bugs**: Debugging is not error handling, if you use try/except/finally, you will never see what the original error message was\n",
    "\n",
    "**You don't have to catch all errors**\n",
    "- Let it bubble up\n",
    "- Someone else will deal with it\n",
    "- Sometimes, crash of the application is exactly what you want to happen"
   ],
   "cell_type": "markdown",
   "metadata": {}
  },
  {
   "source": [
    "## 7. Conditions"
   ],
   "cell_type": "markdown",
   "metadata": {}
  }
 ]
}