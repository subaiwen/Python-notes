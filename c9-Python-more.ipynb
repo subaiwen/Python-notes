{
 "metadata": {
  "language_info": {
   "codemirror_mode": {
    "name": "ipython",
    "version": 3
   },
   "file_extension": ".py",
   "mimetype": "text/x-python",
   "name": "python",
   "nbconvert_exporter": "python",
   "pygments_lexer": "ipython3",
   "version": "3.7.4-final"
  },
  "orig_nbformat": 2,
  "kernelspec": {
   "name": "python3",
   "display_name": "Python 3"
  }
 },
 "nbformat": 4,
 "nbformat_minor": 2,
 "cells": [
  {
   "source": [
    "# More Python for Beginners\n",
    "- Author: Christopher Harrison, Susan Ibach  \n",
    "- [Github](https://github.com/microsoft/c9-python-getting-started): sample code and slides  \n",
    "- [Website](https://aka.ms/pythonbeginnerseries): video course  \n",
    "- [Bilibili](https://www.bilibili.com/video/BV1WT4y137cD): video course in Chinese \n",
    "- Learning Website: [https://channel9.msdn.com/](https://channel9.msdn.com/)\n",
    "- [Set up your Python beginner development environment with Visual Studio Code](https://docs.microsoft.com/learn/languages/python-install-vscode/?WT.mc_id=python-c9-niner)\n",
    "- Explore related tutorials on [Microsoft Learn](https://learn.microsoft.com/?WT.mc_id=python-c9-niner).\n",
    "\n",
    "---"
   ],
   "cell_type": "markdown",
   "metadata": {}
  },
  {
   "source": [
    "## 1. Formatting and linting\n",
    "\n",
    "### 1.1 Formatting\n",
    "\n",
    "- Makes code readable\n",
    "- Easier to debug\n",
    "- Consistency helps everyone \n",
    "\n",
    "**[PEP 8](https://pep8.org/) (Python Enhancement Proposal #8)**: is a set of coding conventions for Python code\n",
    "- Spaces, not tabs\n",
    "- variable_name, not variableName (camel cased) or VariableName (Pascal cased)\n",
    "- Avoid extraneous whitespace\n",
    "```\n",
    "{'good': 42}\n",
    "{ 'bad' : 20 }\n",
    "```\n",
    "\n",
    "### 1.2 Linting\n",
    "\n",
    "**Linter**: Identify formatting issues\n",
    "\n",
    "- [Pylint](https://www.pylint.org/) Pylint is a linter for Python to help enforce coding standards and check for errors in Python code\n",
    "- [Linting Python in Visual Studio Code](https://code.visualstudio.com/docs/python/linting) will show you how to enable litners in VS Code\n",
    "- [Type hints](https://docs.python.org/3/library/typing.html) allow some interactive development environments and linters to enforce types\n",
    "\n",
    "```python\n",
    "# Windows\n",
    "pip install pylint\n",
    "# macOS or Linux\n",
    "pip3 install pylint\n",
    "```\n",
    "\n",
    "### 1.3 docstring\n",
    "\n",
    "[Docstring](https://www.python.org/dev/peps/pep-0257/) is the standard for documenting a module, function, class or method definition"
   ],
   "cell_type": "markdown",
   "metadata": {}
  },
  {
   "cell_type": "code",
   "execution_count": null,
   "metadata": {},
   "outputs": [],
   "source": [
    "def print_hello(name):\n",
    "    \"\"\"\n",
    "    Greets the user by name\n",
    "\n",
    "\tParameters:\n",
    "\t\tname (str): The name of the user\n",
    "\tReturns:\n",
    "\t\tstr: The greeting\n",
    "\t\"\"\"\n",
    "\tprint('Hello, ' + name)"
   ]
  },
  {
   "source": [
    "### 1.4 Type hints\n",
    "[Type hints](https://docs.python.org/3/library/typing.html) tells the editor and linter what data types to expect. It DOES NOT cause \"compiler\" errors\n",
    "\n",
    "- `:`: specify para type\n",
    "- `->`: specify return type (`-> Tuple[bool, str]`, `-> Union[bool, str, None]`)"
   ],
   "cell_type": "markdown",
   "metadata": {}
  },
  {
   "cell_type": "code",
   "execution_count": null,
   "metadata": {},
   "outputs": [],
   "source": [
    "def print_hello(name: str) -> str:\n",
    "    \"\"\"\n",
    "    Greets the user by name\n",
    "\n",
    "\tParameters:\n",
    "\t\tname (str): The name of the user\n",
    "\tReturns:\n",
    "\t\tstr: The greeting\n",
    "\t\"\"\"\n",
    "\tprint('Hello, ' + name)"
   ]
  },
  {
   "source": [
    "## 2. Lambda\n",
    "\n",
    "A [lambda](https://www.w3schools.com/python/python_lambda.asp) function is a small anonymous function. It can take any number of arguments but can only execute one expression."
   ],
   "cell_type": "markdown",
   "metadata": {}
  },
  {
   "cell_type": "code",
   "execution_count": 1,
   "metadata": {},
   "outputs": [
    {
     "output_type": "stream",
     "name": "stdout",
     "text": [
      "[{'name': 'Christopher', 'age': 47}, {'name': 'Susan', 'age': 50}]\n"
     ]
    }
   ],
   "source": [
    "# example\n",
    "def sorter(item):\n",
    "    return item['name'] # sort by name\n",
    "\n",
    "presenters = [\n",
    "  {'name': 'Susan', 'age': 50},\n",
    "  {'name': 'Christopher', 'age': 47}\n",
    "]\n",
    "\n",
    "# the key parameter: call a function for each list element before it compares items for sorting\n",
    "presenters.sort(key=sorter)\n",
    "\n",
    "print(presenters)"
   ]
  },
  {
   "cell_type": "code",
   "execution_count": 2,
   "metadata": {},
   "outputs": [
    {
     "output_type": "stream",
     "name": "stdout",
     "text": [
      "[{'name': 'Christopher', 'age': 47}, {'name': 'Susan', 'age': 50}]\n"
     ]
    }
   ],
   "source": [
    "# lambda\n",
    "presenters.sort(key=lambda item: item['name']) # sort by name\n",
    "print(presenters)\n",
    "\n",
    "presenters.sort(key=lambda item: len(item['name'])) # sort by length of name\n",
    "print(presenters)"
   ]
  },
  {
   "source": [
    "![](https://i.bmp.ovh/imgs/2020/11/f82a0df1f0d31d5b.png)"
   ],
   "cell_type": "markdown",
   "metadata": {}
  },
  {
   "source": [
    "## 3. Class\n",
    "\n",
    "In python, you can do functional programming, procedural programming and object-oriented programming.  \n",
    "[Classes](https://docs.python.org/3/tutorial/classes.html) define data structures and behavior. Classes allow you to group data and functionality together. \n",
    "\n",
    "**Why use classes**:  \n",
    "- Create reusable components\n",
    "- Group data and operations together\n",
    "\n",
    "**Moving parts**:  \n",
    "- Classes are nouns\n",
    "- Properties/fields are adjectives\n",
    "- Methods are verbs\n",
    "\n",
    ">> **Accessibility in Python**: Everything is public  \n",
    ">> Conventions for suggesting accessibility:  \n",
    ">> - `_` means avoid unless you really know what you're doing  \n",
    ">> - `__` (double underscore) means do not use\n",
    "\n",
    "**Naming convention**: PascalCasing\n"
   ],
   "cell_type": "markdown",
   "metadata": {}
  },
  {
   "cell_type": "code",
   "execution_count": null,
   "metadata": {},
   "outputs": [],
   "source": [
    "# Creating a class\n",
    "class Presenter(): # PascalCasing\n",
    "\tdef __init__(self, name):\n",
    "\t\t# Constructor\n",
    "\t\tself.name = name # field\n",
    "\tdef say_hello(self):\n",
    "\t\t# method\n",
    "\t\tprint('Hello, ' + self.name)\n",
    "\n",
    "# Using a class\n",
    "presenter = Presenter('Chris')\n",
    "presenter.name = 'Christopher' # try comment this line out\n",
    "presenter.say_hello()"
   ]
  },
  {
   "cell_type": "code",
   "execution_count": 9,
   "metadata": {},
   "outputs": [
    {
     "output_type": "stream",
     "name": "stdout",
     "text": [
      "In setter\nIn setter\nIn the getter\nChristopher\n"
     ]
    }
   ],
   "source": [
    "# Adding properties\n",
    "class Presenter():\n",
    "\tdef __init__(self, name):\n",
    "\t\t# Constructor\n",
    "\t\tself.name = name # property: don't use self.__name = name\n",
    "\n",
    "\t@property\n",
    "\tdef name(self): # getter\n",
    "\t\tprint('In the getter')\n",
    "\t\treturn self.__name\n",
    "\t@name.setter\n",
    "\tdef name(self, value): # setter\n",
    "\t\tprint('In setter')\n",
    "\t\t# cool validation here\n",
    "\t\tself.__name = value\n",
    "\n",
    "    @property\n",
    "\tdef read_only(self): # getter\n",
    "\t\tprint('In the getter')\n",
    "\t\treturn 123\n",
    "\n",
    "# Using properties\n",
    "presenter = Presenter('Chris')\n",
    "presenter.name = 'Christopher'\n",
    "print(presenter.name)\n",
    "print(presenter.read_only)"
   ]
  },
  {
   "source": [
    "### 3.1 Inheritance\n",
    "\n",
    "[Inheritance](https://docs.python.org/3/tutorial/classes.html#inheritance) allows you:\n",
    "- to define a class that inherits all the methods and properties from another class\n",
    "- to override functions\n",
    "- to add on functionality\n",
    "\n",
    "The **parent** or **base** class is the class being inherited from. The **child** or **derived** class is the class that inherits from another class. Every class automatically inherits from `object`. \n",
    "\n",
    "**Inheritance** creates an \"is a\" relationship: \n",
    "- Student is a Person\n",
    "- SqlConnection is a DatabaseConnection\n",
    "- MySqlConnection is a DatabaseConnection\n",
    "\n",
    "**Composition** (with properties) creates a \"has a\" relationship:\n",
    "- Student has a Class\n",
    "- DatabaseConnection has a ConnectionString\n",
    "\n",
    ">> **YAGNA principle**: You Aren't Gonna Need It  \n",
    ">> Don't add functionality to your code until you actually need it\n"
   ],
   "cell_type": "markdown",
   "metadata": {}
  },
  {
   "source": [
    "# Inheriting from a class\n",
    "class Person:\n",
    "    def __init__(self, name):\n",
    "        self.name = name\n",
    "    def say_hello(self):\n",
    "        print('Hello, ' + self.name)\n",
    "\n",
    "class Student(Person):\n",
    "    def __init__(self, name, school):\n",
    "        # super(): access parent class\n",
    "        super().__init__(name) # parent constructor: set up the name\n",
    "        self.school = school\n",
    "    def sing_school_song(self):\n",
    "        print('Ode to ' + self.school)\n",
    "    def say_hello(self):\n",
    "        # Let the parent do some work\n",
    "        super().say_hello()\n",
    "        # Add on custom code\n",
    "        print('I am overriding say_hello()')"
   ],
   "cell_type": "code",
   "metadata": {},
   "execution_count": 52,
   "outputs": []
  },
  {
   "cell_type": "code",
   "execution_count": 53,
   "metadata": {},
   "outputs": [
    {
     "output_type": "stream",
     "name": "stdout",
     "text": [
      "Hello, Christopher\nI am overriding say_hello()\nOde to UMD\nIs this a student? True\nIs this a person? True\nIs student a person? True\n"
     ]
    }
   ],
   "source": [
    "student = Student('Christopher', 'UMD')\n",
    "student.say_hello()\n",
    "student.sing_school_song()\n",
    "# What are you?\n",
    "print(f'Is this a student? {isinstance(student, Student)}') # boolean auto converte to str\n",
    "print(f'Is this a person? {isinstance(student, Person)}')\n",
    "print(f'Is student a person? {issubclass(Student, Person)}') # check inheritance level"
   ]
  },
  {
   "cell_type": "code",
   "execution_count": 58,
   "metadata": {},
   "outputs": [
    {
     "output_type": "stream",
     "name": "stdout",
     "text": [
      "Christopher\nChristopher\n"
     ]
    }
   ],
   "source": [
    "# Overriding __str__\n",
    "class Person:\n",
    "    def __init__(self, name):\n",
    "        self.name = name\n",
    "    def say_hello(self):\n",
    "        print('Hello, ' + self.name)\n",
    "    def __str__(self):\n",
    "        return self.name\n",
    "\n",
    "presenter = Person('Christopher')\n",
    "print(presenter)\n",
    "print(presenter)"
   ]
  },
  {
   "source": [
    "### 3.2 Mixins (Multiple inheritance)\n",
    "Python allows you to inherit from multiple classes. While the technical term for this is [multiple inheritance](https://docs.python.org/3/tutorial/classes.html#multiple-inheritance), many developers refer to the use of more than one base class adding a mixin. \n",
    "\n",
    "**Avoid setting up multiple inheritance in our code unless we happen to be setting up a framework**\n",
    "\n",
    "**A little controversial**:\n",
    "- Can get messy quickly\n",
    "- Many modern languages only support single inheritance\n",
    "\n",
    "**Uses**:  \n",
    "- Enable functionality for frameworks such as [Django](https://www.djangoproject.com).\n",
    "- Streamline repetitious operations\n",
    "\n",
    ">> **CRUD** : Create, Retrieve, Update, Delete"
   ],
   "cell_type": "markdown",
   "metadata": {}
  },
  {
   "cell_type": "code",
   "execution_count": null,
   "metadata": {},
   "outputs": [],
   "source": [
    "# Scenario\n",
    "\n",
    "# What I want to create:\n",
    "# - Helper database class\n",
    "# - Create different types for different databases\n",
    "\n",
    "# What I want it to be able to do:\n",
    "# - Connect to a database\n",
    "# - Log what it's doing\n",
    "\n",
    "# Supporting classes\n",
    "class Loggable:\n",
    "    def __init__(self):\n",
    "        self.title = ''\n",
    "    def log(self):\n",
    "        print('Log message from ' + self.title)\n",
    "\n",
    "class Connection:\n",
    "    def __init__(self):\n",
    "        self.server = ''\n",
    "    def connect(self):\n",
    "        print('Connecting to database on ' + self.server)\n",
    "\n",
    "# Framework\n",
    "def framework(item):\n",
    "    # Perform the connection\n",
    "    if isinstance(item, Connection):\n",
    "        item.connect()\n",
    "    # Log the operation\n",
    "    if isinstance(item, Loggable):\n",
    "        item.log()\n",
    "\n",
    "# Use the framework\n",
    "# Inherit from Connection and Loggable\n",
    "class SqlDatabase(Connection, Loggable):\n",
    "    def __init__(self):\n",
    "        super().__init__()\n",
    "        self.title = 'Sql Connection Demo'\n",
    "        self.server = 'Some_Server'"
   ]
  },
  {
   "cell_type": "code",
   "execution_count": null,
   "metadata": {},
   "outputs": [],
   "source": [
    "# Putting it to work\n",
    "# Create an instance of our class\n",
    "sql_connection = SqlDatabase()\n",
    "# Use our framework\n",
    "framework(sql_connection)"
   ]
  },
  {
   "cell_type": "code",
   "execution_count": null,
   "metadata": {},
   "outputs": [],
   "source": [
    "# Framework is a good thing\n",
    "class JustLog(Loggable):\n",
    "    def __init__(self):\n",
    "        self.title = 'Just logging'\n",
    "\n",
    "just_log = JustLog()\n",
    "framework(just_log) # only do logging"
   ]
  },
  {
   "source": [
    "## 4. Managing the file system\n",
    "\n",
    "Python's [pathlib](https://docs.python.org/3/library/pathlib.html) provides operations and classes to access files and directories in the file system.\n",
    "\n",
    "### 4.1 Paths, directories, files"
   ],
   "cell_type": "markdown",
   "metadata": {}
  },
  {
   "cell_type": "code",
   "execution_count": null,
   "metadata": {},
   "outputs": [],
   "source": [
    "# Working with path\n",
    "# Older than Python 3.6\n",
    "os.path\n",
    "# Python 3.6 or higher\n",
    "# Grab the library\n",
    "from pathlib import Path\n",
    "\n",
    "# What is the current working directory?\n",
    "cwd = Path.cwd()\n",
    "print('\\nCurrent working directory:\\n' + str(cwd))\n",
    "\n",
    "# Create full path name by joining path and filename\n",
    "new_file = Path.joinpath(cwd, 'new_file.txt') # don't need to worry about direction of slash\n",
    "print('\\nFull path:\\n' + str(new_file))\n",
    "\n",
    "# Check if file exists\n",
    "print('\\nDoes that file exist? ' + str(new_file.exists()) + '\\n')"
   ]
  },
  {
   "cell_type": "code",
   "execution_count": null,
   "metadata": {},
   "outputs": [],
   "source": [
    "# Working with directories\n",
    "from pathlib import Path\n",
    "cwd = Path.cwd()\n",
    "\n",
    "# Get the parent directory\n",
    "parent = cwd.parent\n",
    "\n",
    "# Is this a directory?\n",
    "print('\\nIs this a directory? ' + str(parent.is_dir()))\n",
    "\n",
    "# Is this a file?\n",
    "print('\\nIs this a file? ' + str(parent.is_file()))\n",
    "\n",
    "# List child directories\n",
    "print('\\n-----directory contents-----')\n",
    "for child in parent.iterdir():\n",
    "    if child.is_dir():\n",
    "        print(child)"
   ]
  },
  {
   "cell_type": "code",
   "execution_count": null,
   "metadata": {},
   "outputs": [],
   "source": [
    "# Working with files\n",
    "from pathlib import Path\n",
    "cwd = Path.cwd()\n",
    "\n",
    "demo_file = Path(Path.joinpath(cwd, 'demo.txt'))\n",
    "\n",
    "# Get the file name\n",
    "print('\\nfile name: ' + demo_file.name)\n",
    "\n",
    "# Get the extension\n",
    "print('\\nfile suffix: ' + demo_file.suffix)\n",
    "\n",
    "# Get the folder\n",
    "print('\\nfile folder: ' + demo_file.parent.name)\n",
    "\n",
    "# Get the size\n",
    "print('\\nfile size: ' + str(demo_file.stat().st_size) + '\\n')"
   ]
  },
  {
   "source": [
    "### 4.2 Working with files\n",
    "\n",
    "Python allows you to read and write from files. [io](https://docs.python.org/3/library/io.html) is the module that provides Python capabilities for input/output (I/O), including text I/O from files\n",
    "\n",
    "`stream = open(file_name, mode, buffer_size)`\n",
    "When you are writing to a file, you are actually writing to a stream and that stream goes to the file \n",
    "\n",
    "**Modes**:  \n",
    "`r` - Read (default)  \n",
    "`w` - Truncate and write  \n",
    "`a` - Append if file exists  \n",
    "`x` - Write, fail if file exists  \n",
    "`+` - Updating (read/write)  \n",
    "\n",
    "`t` - Text (default)  \n",
    "`b` - Binary (eg. picture)"
   ],
   "cell_type": "markdown",
   "metadata": {}
  },
  {
   "source": [
    "# reading a file\n",
    "# Open file demo.txt and read the contents\n",
    "stream = open('demo.txt', 'rt') # read text\n",
    "print('\\nIs this readable? ' + str(stream.readable())) # Can we read?\n",
    "print('\\nRead one character : ' + stream.read(1))   # Read the first character\n",
    "print('\\nRead to end of line : ' + stream.readline()) # Read a line from the last read point onward, in this case, it won't read the first character\n",
    "print('\\nRead all lines to end of file :\\n' + str(stream.readlines())+ '\\n')\n",
    "stream.close() # close the stream"
   ],
   "cell_type": "code",
   "metadata": {},
   "execution_count": null,
   "outputs": []
  },
  {
   "cell_type": "code",
   "execution_count": null,
   "metadata": {},
   "outputs": [],
   "source": [
    "# writing to a file\n",
    "# Open output.txt as a text file for writing\n",
    "stream = open('output.txt', 'wt') # write text\n",
    "\n",
    "print('\\nCan I write to this file? ' + str(stream.writable()) + '\\n')\n",
    "\n",
    "stream.write('H') # Write a single string \n",
    "stream.writelines(['ello',' ','world']) # Write one or more strings\n",
    "stream.write('\\n') # Write a new line\n",
    "\n",
    "names = ['Susan','Christopher']\n",
    "stream.writelines(names) # write to the same line\n",
    "\n",
    "# Here's a neat trick to insert a new line between items in the list\n",
    "stream.write('\\n')  # Write a new line\n",
    "stream.writelines('\\n'.join(names)) # write to different lines\n",
    "stream.close() #Flush stream and close"
   ]
  },
  {
   "cell_type": "code",
   "execution_count": null,
   "metadata": {},
   "outputs": [],
   "source": [
    "# Managing the stream\n",
    "# Open manage.txt file to write text\n",
    "stream = open('manage.txt', 'wt')\n",
    "\n",
    "#Write the word demo to the file stream\n",
    "stream.write('demo!')\n",
    "\n",
    "# Move the cursor back to the start of the file stream\n",
    "stream.seek(0)\n",
    "\n",
    "#write the word cool to the file stream\n",
    "stream.write('cool') # overwrite 'demo'\n",
    "\n",
    "#Flush the file stream contents to the file buffer\n",
    "#Take the content from file stream to actual file\n",
    "stream.flush()\n",
    "\n",
    "# Flush the file stream and close the file\n",
    "stream.close()"
   ]
  },
  {
   "source": [
    "### 4.2.1 Cleanup with `with`\n",
    "\n",
    "The [with](https://docs.python.org/3/reference/compound_stmts.html#with) statement allows you to simplify code in [try](https://docs.python.org/3/reference/compound_stmts.html#the-try-statement)/finally statements. It's considered to use `with` for any operation which supports it."
   ],
   "cell_type": "markdown",
   "metadata": {}
  },
  {
   "cell_type": "code",
   "execution_count": null,
   "metadata": {},
   "outputs": [],
   "source": [
    "try:\n",
    "\tstream = open('output.txt', 'wt')\n",
    "\tstream.write('Lorem ipsum dolar')\n",
    "finally:\n",
    "\tstream.close() # THIS IS REALLY IMPORTANT!!"
   ]
  },
  {
   "cell_type": "code",
   "execution_count": null,
   "metadata": {},
   "outputs": [],
   "source": [
    "# Working with objects that need to be closed when we finish them\n",
    "with open('output.txt', 'wt') as stream:\n",
    "\tstream.write('Lorem ipsum dolar')"
   ]
  },
  {
   "source": [
    "## 5. Asynchronous operations\n",
    "\n",
    "Some operations take a long time\n",
    "- Web calls\n",
    "- Network IO\n",
    "- Complex data processing \n",
    "\n",
    "We don't want to stop everything just because one process is taking forever\n",
    "\n",
    "\n",
    "Python offers several options for managing long running operations asynchronously. [asyncio](https://docs.python.org/3/library/asyncio.html) is the core library for supporting asynchronous operations, including [async](https://docs.python.org/3/reference/compound_stmts.html#async-def)/[await](https://docs.python.org/3/reference/expressions.html#await).\n",
    "\n",
    "**Operations:**  \n",
    "- `run`: Runtime for asynchronous functions\n",
    "- `create_task`: Creates a handle (or coroutine) and schedules execution\n",
    "- `gather`: Create a collection of tasks to execute and wait for completion\n",
    "\n",
    "**Creating coroutines (functions using async/await):**  \n",
    "- `async`: Flag to create a coroutine (function with an await call)\n",
    "- `await`: \"Pauses\" code to wait for response\n",
    "\n",
    ">> Asynchronous operations make us be able to take advantage of a little bit of potentially multicore, or just make Python to be able to swap things on and off. Because now we've given it a little bit of a heads up of the fact that certain operations are going to be long-running and it's okay if it does something else.\n",
    " "
   ],
   "cell_type": "markdown",
   "metadata": {}
  },
  {
   "cell_type": "code",
   "execution_count": 66,
   "metadata": {},
   "outputs": [
    {
     "output_type": "stream",
     "name": "stdout",
     "text": [
      "Starting 2 second timer\n",
      "Completed 2 second timer\n",
      "Starting 3 second timer\n",
      "Completed 3 second timer\n",
      "The operation took 6.5 seconds\n"
     ]
    }
   ],
   "source": [
    "# Synchronous using requests\n",
    "import requests # synchronous\n",
    "from timeit import default_timer\n",
    "\n",
    "def load_data(delay):\n",
    "    print(f'Starting {delay} second timer')\n",
    "    text = requests.get('https://httpbin.org/delay/{delay}').text\n",
    "    print(f'Completed {delay} second timer')\n",
    "    return text\n",
    "\n",
    "def run_demo():\n",
    "    start_time = default_timer()\n",
    "\n",
    "    two_data = load_data(2)\n",
    "    three_data = load_data(3)\n",
    "\n",
    "    elapsed_time = default_timer() - start_time\n",
    "    print(f'The operation took {elapsed_time:.2} seconds') # 5.8 seconds\n",
    "\n",
    "run_demo()"
   ]
  },
  {
   "cell_type": "code",
   "execution_count": null,
   "metadata": {},
   "outputs": [],
   "source": [
    "# Asynchronous using aiohttp\n",
    "# Only run or python 3.7 or higher\n",
    "from timeit import default_timer\n",
    "import aiohttp # asynchronous\n",
    "import asyncio\n",
    "\n",
    "# async: Flag to create a coroutine  \n",
    "async def load_data(session, delay):\n",
    "    print(f'Starting {delay} second timer')\n",
    "    async with session.get(f'http://httpbin.org/delay/{delay}') as resp:\n",
    "        text = await resp.text()\n",
    "        print(f'Completed {delay} second timer')\n",
    "        return text\n",
    "\n",
    "async def main():\n",
    "    # Start the timer\n",
    "    start_time = default_timer()\n",
    "\n",
    "    # Creating a single session\n",
    "    async with aiohttp.ClientSession() as session:\n",
    "        # Setup our tasks and get them running\n",
    "        # create_task: excute and get back when it finishes\n",
    "        two_task = asyncio.create_task(load_data(session, 2)) \n",
    "        three_task = asyncio.create_task(load_data(session, 3)) # take at least 3 secs\n",
    "\n",
    "        # Simulate other processing\n",
    "        await asyncio.sleep(1) # sleep 1 sec\n",
    "        print('Doing other work')\n",
    "\n",
    "        # Let's go get our values\n",
    "        two_result = await two_task # grab data\n",
    "        three_result = await three_task\n",
    "\n",
    "        # Print our results\n",
    "        elapsed_time = default_timer() - start_time\n",
    "        print(f'The operation took {elapsed_time:.2} seconds')\n",
    "\n",
    "asyncio.run(main()) # 3.4 seconds"
   ]
  }
 ]
}